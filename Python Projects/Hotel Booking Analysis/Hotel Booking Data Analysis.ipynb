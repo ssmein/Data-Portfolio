{
 "cells": [
  {
   "cell_type": "markdown",
   "id": "807f9a25",
   "metadata": {},
   "source": [
    "# Hotel Booking Data"
   ]
  },
  {
   "cell_type": "code",
   "execution_count": 1,
   "id": "234deae2",
   "metadata": {},
   "outputs": [
    {
     "data": {
      "text/html": [
       "<div>\n",
       "<style scoped>\n",
       "    .dataframe tbody tr th:only-of-type {\n",
       "        vertical-align: middle;\n",
       "    }\n",
       "\n",
       "    .dataframe tbody tr th {\n",
       "        vertical-align: top;\n",
       "    }\n",
       "\n",
       "    .dataframe thead th {\n",
       "        text-align: right;\n",
       "    }\n",
       "</style>\n",
       "<table border=\"1\" class=\"dataframe\">\n",
       "  <thead>\n",
       "    <tr style=\"text-align: right;\">\n",
       "      <th></th>\n",
       "      <th>Hotelname</th>\n",
       "      <th>reservationno</th>\n",
       "      <th>ArrivalDate</th>\n",
       "      <th>DepartureDate</th>\n",
       "      <th>RoomNights</th>\n",
       "      <th>RoomRevenue</th>\n",
       "      <th>CurrencyCode</th>\n",
       "      <th>Channel</th>\n",
       "      <th>Guest Region</th>\n",
       "      <th>firstname</th>\n",
       "      <th>lastname</th>\n",
       "      <th>Guest Email</th>\n",
       "    </tr>\n",
       "  </thead>\n",
       "  <tbody>\n",
       "    <tr>\n",
       "      <th>0</th>\n",
       "      <td>Cherry</td>\n",
       "      <td>14232570</td>\n",
       "      <td>8/8/2019 0:00</td>\n",
       "      <td>8/9/2019 0:00</td>\n",
       "      <td>1</td>\n",
       "      <td>5931.74</td>\n",
       "      <td>THB</td>\n",
       "      <td>Direct</td>\n",
       "      <td>China</td>\n",
       "      <td>NaN</td>\n",
       "      <td>Barnes</td>\n",
       "      <td>NaN</td>\n",
       "    </tr>\n",
       "    <tr>\n",
       "      <th>1</th>\n",
       "      <td>Cherry</td>\n",
       "      <td>14321242</td>\n",
       "      <td>8/9/2019 0:00</td>\n",
       "      <td>8/10/2019 0:00</td>\n",
       "      <td>1</td>\n",
       "      <td>5545.02</td>\n",
       "      <td>THB</td>\n",
       "      <td>Direct</td>\n",
       "      <td>China</td>\n",
       "      <td>NaN</td>\n",
       "      <td>Baker</td>\n",
       "      <td>NaN</td>\n",
       "    </tr>\n",
       "    <tr>\n",
       "      <th>2</th>\n",
       "      <td>Cherry</td>\n",
       "      <td>14308935</td>\n",
       "      <td>8/14/2019 0:00</td>\n",
       "      <td>8/15/2019 0:00</td>\n",
       "      <td>1</td>\n",
       "      <td>5545.02</td>\n",
       "      <td>THB</td>\n",
       "      <td>Direct</td>\n",
       "      <td>China</td>\n",
       "      <td>NaN</td>\n",
       "      <td>Parker</td>\n",
       "      <td>NaN</td>\n",
       "    </tr>\n",
       "    <tr>\n",
       "      <th>3</th>\n",
       "      <td>Cherry</td>\n",
       "      <td>13921904</td>\n",
       "      <td>9/30/2019 0:00</td>\n",
       "      <td>10/1/2019 0:00</td>\n",
       "      <td>1</td>\n",
       "      <td>8880.35</td>\n",
       "      <td>THB</td>\n",
       "      <td>Direct</td>\n",
       "      <td>China</td>\n",
       "      <td>NaN</td>\n",
       "      <td>Murray</td>\n",
       "      <td>NaN</td>\n",
       "    </tr>\n",
       "    <tr>\n",
       "      <th>4</th>\n",
       "      <td>Cherry</td>\n",
       "      <td>13921944</td>\n",
       "      <td>9/30/2019 0:00</td>\n",
       "      <td>10/1/2019 0:00</td>\n",
       "      <td>1</td>\n",
       "      <td>8880.35</td>\n",
       "      <td>THB</td>\n",
       "      <td>Direct</td>\n",
       "      <td>China</td>\n",
       "      <td>NaN</td>\n",
       "      <td>Hines</td>\n",
       "      <td>NaN</td>\n",
       "    </tr>\n",
       "  </tbody>\n",
       "</table>\n",
       "</div>"
      ],
      "text/plain": [
       "  Hotelname  reservationno     ArrivalDate   DepartureDate  RoomNights  \\\n",
       "0    Cherry       14232570   8/8/2019 0:00   8/9/2019 0:00           1   \n",
       "1    Cherry       14321242   8/9/2019 0:00  8/10/2019 0:00           1   \n",
       "2    Cherry       14308935  8/14/2019 0:00  8/15/2019 0:00           1   \n",
       "3    Cherry       13921904  9/30/2019 0:00  10/1/2019 0:00           1   \n",
       "4    Cherry       13921944  9/30/2019 0:00  10/1/2019 0:00           1   \n",
       "\n",
       "   RoomRevenue CurrencyCode Channel Guest Region firstname lastname  \\\n",
       "0      5931.74          THB  Direct        China       NaN   Barnes   \n",
       "1      5545.02          THB  Direct        China       NaN    Baker   \n",
       "2      5545.02          THB  Direct        China       NaN   Parker   \n",
       "3      8880.35          THB  Direct        China       NaN   Murray   \n",
       "4      8880.35          THB  Direct        China       NaN    Hines   \n",
       "\n",
       "  Guest Email  \n",
       "0         NaN  \n",
       "1         NaN  \n",
       "2         NaN  \n",
       "3         NaN  \n",
       "4         NaN  "
      ]
     },
     "execution_count": 1,
     "metadata": {},
     "output_type": "execute_result"
    }
   ],
   "source": [
    "import pandas as pd\n",
    "import numpy as np\n",
    "import matplotlib.pyplot as plt\n",
    "import seaborn as sns\n",
    "\n",
    "# Read the data\n",
    "data = pd.read_csv(r\"/Users/secretgarden/Desktop/Minor Hotels/Instructions/Hotel Booking.csv\")\n",
    "data.head()"
   ]
  },
  {
   "cell_type": "code",
   "execution_count": 2,
   "id": "9931ba7f",
   "metadata": {},
   "outputs": [
    {
     "data": {
      "text/plain": [
       "(39039, 12)"
      ]
     },
     "execution_count": 2,
     "metadata": {},
     "output_type": "execute_result"
    }
   ],
   "source": [
    "data.shape"
   ]
  },
  {
   "cell_type": "markdown",
   "id": "dbd8560e",
   "metadata": {},
   "source": [
    "<div class=\"alert alert-block alert-info\">\n",
    "We have 39039 rows and 12 columns.\n",
    "</div>"
   ]
  },
  {
   "cell_type": "markdown",
   "id": "17459778",
   "metadata": {},
   "source": [
    "## Data Cleaning on Hotel Booking Dataset"
   ]
  },
  {
   "cell_type": "code",
   "execution_count": 3,
   "id": "686230ab",
   "metadata": {
    "scrolled": true
   },
   "outputs": [
    {
     "data": {
      "text/plain": [
       "Index(['Hotelname', 'reservationno', 'ArrivalDate', 'DepartureDate',\n",
       "       'RoomNights', 'RoomRevenue', 'CurrencyCode', 'Channel', 'Guest Region',\n",
       "       'firstname', 'lastname', 'Guest Email'],\n",
       "      dtype='object')"
      ]
     },
     "execution_count": 3,
     "metadata": {},
     "output_type": "execute_result"
    }
   ],
   "source": [
    "# Displaying column names\n",
    "data.columns"
   ]
  },
  {
   "cell_type": "code",
   "execution_count": 4,
   "id": "396abf2b",
   "metadata": {},
   "outputs": [],
   "source": [
    "# Standardizing the names of the columns to maintain a uniform structure\n",
    "data.rename(columns={'Hotelname': 'hotel_name', 'reservationno':'reservation_no', 'ArrivalDate':'arrival_date',\n",
    "                     'DepartureDate':'deperture_date', 'RoomNights':'room_nights', \n",
    "                     'RoomRevenue':'room_revenue','CurrencyCode':'currency_code', \n",
    "                     'Channel':'booking_channel', 'Guest Region':'guest_region', \n",
    "                     'firstname':'first_name', 'lastname':'last_name',\n",
    "                     'Guest Email':'guest_email'}, inplace=True)"
   ]
  },
  {
   "cell_type": "code",
   "execution_count": 5,
   "id": "1dbf0373",
   "metadata": {},
   "outputs": [
    {
     "data": {
      "text/plain": [
       "Index(['hotel_name', 'reservation_no', 'arrival_date', 'deperture_date',\n",
       "       'room_nights', 'room_revenue', 'currency_code', 'booking_channel',\n",
       "       'guest_region', 'first_name', 'last_name', 'guest_email'],\n",
       "      dtype='object')"
      ]
     },
     "execution_count": 5,
     "metadata": {},
     "output_type": "execute_result"
    }
   ],
   "source": [
    "# New column names\n",
    "data.columns"
   ]
  },
  {
   "cell_type": "markdown",
   "id": "2c108253",
   "metadata": {},
   "source": [
    "<div class=\"alert alert-block alert-info\">\n",
    "Now, the column names are consistent which make it easier to do analysis.\n",
    "</div>"
   ]
  },
  {
   "cell_type": "code",
   "execution_count": 6,
   "id": "7e249c8a",
   "metadata": {},
   "outputs": [
    {
     "data": {
      "text/plain": [
       "0"
      ]
     },
     "execution_count": 6,
     "metadata": {},
     "output_type": "execute_result"
    }
   ],
   "source": [
    "# Check duplicated rows\n",
    "data.duplicated().sum()"
   ]
  },
  {
   "cell_type": "markdown",
   "id": "811332e7",
   "metadata": {},
   "source": [
    "<div class=\"alert alert-block alert-info\">\n",
    "There is no duplicate row.\n",
    "</div>"
   ]
  },
  {
   "cell_type": "code",
   "execution_count": 7,
   "id": "7c2f3d75",
   "metadata": {},
   "outputs": [
    {
     "data": {
      "text/plain": [
       "hotel_name            0\n",
       "reservation_no        0\n",
       "arrival_date          0\n",
       "deperture_date        0\n",
       "room_nights           0\n",
       "room_revenue          0\n",
       "currency_code         0\n",
       "booking_channel       0\n",
       "guest_region        168\n",
       "first_name           31\n",
       "last_name            98\n",
       "guest_email        9678\n",
       "dtype: int64"
      ]
     },
     "execution_count": 7,
     "metadata": {},
     "output_type": "execute_result"
    }
   ],
   "source": [
    "# Check missing values\n",
    "data.isnull().sum()"
   ]
  },
  {
   "cell_type": "markdown",
   "id": "9ed66955",
   "metadata": {},
   "source": [
    "<div class=\"alert alert-block alert-info\">\n",
    "There are 168 missing regions, 31 missing first name, 98 missing last name and 9678 missing emails.\n",
    "</div>"
   ]
  },
  {
   "cell_type": "code",
   "execution_count": 8,
   "id": "4fd3969c",
   "metadata": {},
   "outputs": [],
   "source": [
    "# Replace all missing values with \"Unknown\"\n",
    "data['guest_region'].fillna(\"Unknown\", inplace = True)\n",
    "data['guest_email'].fillna(\"Unknown\", inplace = True)\n",
    "data['first_name'].fillna('Unknown', inplace=True)\n",
    "data['last_name'].fillna('Unknown', inplace=True)"
   ]
  },
  {
   "cell_type": "code",
   "execution_count": 9,
   "id": "da463196",
   "metadata": {},
   "outputs": [
    {
     "data": {
      "text/plain": [
       "hotel_name         0\n",
       "reservation_no     0\n",
       "arrival_date       0\n",
       "deperture_date     0\n",
       "room_nights        0\n",
       "room_revenue       0\n",
       "currency_code      0\n",
       "booking_channel    0\n",
       "guest_region       0\n",
       "first_name         0\n",
       "last_name          0\n",
       "guest_email        0\n",
       "dtype: int64"
      ]
     },
     "execution_count": 9,
     "metadata": {},
     "output_type": "execute_result"
    }
   ],
   "source": [
    "# Check missing values again\n",
    "data.isnull().sum()"
   ]
  },
  {
   "cell_type": "code",
   "execution_count": 10,
   "id": "a5e77b56",
   "metadata": {},
   "outputs": [
    {
     "name": "stdout",
     "output_type": "stream",
     "text": [
      "<class 'pandas.core.frame.DataFrame'>\n",
      "RangeIndex: 39039 entries, 0 to 39038\n",
      "Data columns (total 12 columns):\n",
      " #   Column           Non-Null Count  Dtype  \n",
      "---  ------           --------------  -----  \n",
      " 0   hotel_name       39039 non-null  object \n",
      " 1   reservation_no   39039 non-null  int64  \n",
      " 2   arrival_date     39039 non-null  object \n",
      " 3   deperture_date   39039 non-null  object \n",
      " 4   room_nights      39039 non-null  int64  \n",
      " 5   room_revenue     39039 non-null  float64\n",
      " 6   currency_code    39039 non-null  object \n",
      " 7   booking_channel  39039 non-null  object \n",
      " 8   guest_region     39039 non-null  object \n",
      " 9   first_name       39039 non-null  object \n",
      " 10  last_name        39039 non-null  object \n",
      " 11  guest_email      39039 non-null  object \n",
      "dtypes: float64(1), int64(2), object(9)\n",
      "memory usage: 3.6+ MB\n"
     ]
    }
   ],
   "source": [
    "# Check datatype\n",
    "data.info()"
   ]
  },
  {
   "cell_type": "code",
   "execution_count": 11,
   "id": "67edbc52",
   "metadata": {},
   "outputs": [],
   "source": [
    "# Convert 'arrival_date' and 'departure_date' to datetime objects\n",
    "data['arrival_date'] = pd.to_datetime(data['arrival_date'])\n",
    "data['deperture_date'] = pd.to_datetime(data['deperture_date'])"
   ]
  },
  {
   "cell_type": "code",
   "execution_count": 12,
   "id": "5c814e45",
   "metadata": {},
   "outputs": [],
   "source": [
    "# Convert 'currency_code' to uppercase for consistency\n",
    "data['currency_code'] = data['currency_code'].str.upper()"
   ]
  },
  {
   "cell_type": "code",
   "execution_count": 13,
   "id": "c5abda94",
   "metadata": {},
   "outputs": [
    {
     "name": "stdout",
     "output_type": "stream",
     "text": [
      "<class 'pandas.core.frame.DataFrame'>\n",
      "RangeIndex: 39039 entries, 0 to 39038\n",
      "Data columns (total 12 columns):\n",
      " #   Column           Non-Null Count  Dtype         \n",
      "---  ------           --------------  -----         \n",
      " 0   hotel_name       39039 non-null  object        \n",
      " 1   reservation_no   39039 non-null  int64         \n",
      " 2   arrival_date     39039 non-null  datetime64[ns]\n",
      " 3   deperture_date   39039 non-null  datetime64[ns]\n",
      " 4   room_nights      39039 non-null  int64         \n",
      " 5   room_revenue     39039 non-null  float64       \n",
      " 6   currency_code    39039 non-null  object        \n",
      " 7   booking_channel  39039 non-null  object        \n",
      " 8   guest_region     39039 non-null  object        \n",
      " 9   first_name       39039 non-null  object        \n",
      " 10  last_name        39039 non-null  object        \n",
      " 11  guest_email      39039 non-null  object        \n",
      "dtypes: datetime64[ns](2), float64(1), int64(2), object(7)\n",
      "memory usage: 3.6+ MB\n"
     ]
    }
   ],
   "source": [
    "# Check datatype again, the datatype has changed for arrival and deperture date\n",
    "data.info()"
   ]
  },
  {
   "cell_type": "code",
   "execution_count": 14,
   "id": "6c0811c9",
   "metadata": {},
   "outputs": [
    {
     "data": {
      "text/plain": [
       "array(['THB', 'USD'], dtype=object)"
      ]
     },
     "execution_count": 14,
     "metadata": {},
     "output_type": "execute_result"
    }
   ],
   "source": [
    "# Display unique values of 'currency_code'\n",
    "data['currency_code'].unique()"
   ]
  },
  {
   "cell_type": "markdown",
   "id": "5d22d6f7",
   "metadata": {},
   "source": [
    "<div class=\"alert alert-block alert-info\">\n",
    "Two Currency has been used to process the payment. USD and THB.\n",
    "</div>"
   ]
  },
  {
   "cell_type": "code",
   "execution_count": 15,
   "id": "1769532d",
   "metadata": {},
   "outputs": [
    {
     "data": {
      "text/plain": [
       "array(['Cherry', 'Blueberry', 'Strawberry'], dtype=object)"
      ]
     },
     "execution_count": 15,
     "metadata": {},
     "output_type": "execute_result"
    }
   ],
   "source": [
    "# Display unique values of 'hotel_name'\n",
    "data['hotel_name'].unique()"
   ]
  },
  {
   "cell_type": "markdown",
   "id": "b826f45b",
   "metadata": {},
   "source": [
    "<div class=\"alert alert-block alert-info\">\n",
    "There are three hotels naming Cherry, Blueberry and Strawberry.\n",
    "</div>"
   ]
  },
  {
   "cell_type": "code",
   "execution_count": 16,
   "id": "7e06f137",
   "metadata": {},
   "outputs": [
    {
     "data": {
      "text/plain": [
       "array(['Direct', 'Web', 'OTA'], dtype=object)"
      ]
     },
     "execution_count": 16,
     "metadata": {},
     "output_type": "execute_result"
    }
   ],
   "source": [
    "# Display unique values of 'booking_channel'\n",
    "data['booking_channel'].unique()"
   ]
  },
  {
   "cell_type": "markdown",
   "id": "eab4529d",
   "metadata": {},
   "source": [
    "<div class=\"alert alert-block alert-info\">\n",
    "Three booking channel naming Direct, Web, OTA.\n",
    "</div>"
   ]
  },
  {
   "cell_type": "code",
   "execution_count": 17,
   "id": "8e534e74",
   "metadata": {},
   "outputs": [
    {
     "data": {
      "text/plain": [
       "array(['China', 'Unknown', 'Thailand', 'Asia', 'North America', 'Europe',\n",
       "       'Middle East', 'Oceania', 'South America', 'Africa', 'Americas'],\n",
       "      dtype=object)"
      ]
     },
     "execution_count": 17,
     "metadata": {},
     "output_type": "execute_result"
    }
   ],
   "source": [
    "# Display unique values of 'guest_region'\n",
    "data['guest_region'].unique()"
   ]
  },
  {
   "cell_type": "markdown",
   "id": "4f86e638",
   "metadata": {},
   "source": [
    "<div class=\"alert alert-block alert-info\">\n",
    "We can see guest regions. Now, all the data in these columns seems fine now without any spelling errors.\n",
    "</div>"
   ]
  },
  {
   "cell_type": "code",
   "execution_count": 18,
   "id": "ab15f5fd",
   "metadata": {},
   "outputs": [
    {
     "data": {
      "text/html": [
       "<div>\n",
       "<style scoped>\n",
       "    .dataframe tbody tr th:only-of-type {\n",
       "        vertical-align: middle;\n",
       "    }\n",
       "\n",
       "    .dataframe tbody tr th {\n",
       "        vertical-align: top;\n",
       "    }\n",
       "\n",
       "    .dataframe thead th {\n",
       "        text-align: right;\n",
       "    }\n",
       "</style>\n",
       "<table border=\"1\" class=\"dataframe\">\n",
       "  <thead>\n",
       "    <tr style=\"text-align: right;\">\n",
       "      <th></th>\n",
       "      <th>hotel_name</th>\n",
       "      <th>reservation_no</th>\n",
       "      <th>arrival_date</th>\n",
       "      <th>deperture_date</th>\n",
       "      <th>room_nights</th>\n",
       "      <th>room_revenue</th>\n",
       "      <th>currency_code</th>\n",
       "      <th>booking_channel</th>\n",
       "      <th>guest_region</th>\n",
       "      <th>first_name</th>\n",
       "      <th>last_name</th>\n",
       "      <th>guest_email</th>\n",
       "    </tr>\n",
       "  </thead>\n",
       "  <tbody>\n",
       "    <tr>\n",
       "      <th>0</th>\n",
       "      <td>Cherry</td>\n",
       "      <td>14232570</td>\n",
       "      <td>2019-08-08</td>\n",
       "      <td>2019-08-09</td>\n",
       "      <td>1</td>\n",
       "      <td>5931.74</td>\n",
       "      <td>THB</td>\n",
       "      <td>Direct</td>\n",
       "      <td>China</td>\n",
       "      <td>Unknown</td>\n",
       "      <td>Barnes</td>\n",
       "      <td>Unknown</td>\n",
       "    </tr>\n",
       "    <tr>\n",
       "      <th>1</th>\n",
       "      <td>Cherry</td>\n",
       "      <td>14321242</td>\n",
       "      <td>2019-08-09</td>\n",
       "      <td>2019-08-10</td>\n",
       "      <td>1</td>\n",
       "      <td>5545.02</td>\n",
       "      <td>THB</td>\n",
       "      <td>Direct</td>\n",
       "      <td>China</td>\n",
       "      <td>Unknown</td>\n",
       "      <td>Baker</td>\n",
       "      <td>Unknown</td>\n",
       "    </tr>\n",
       "    <tr>\n",
       "      <th>2</th>\n",
       "      <td>Cherry</td>\n",
       "      <td>14308935</td>\n",
       "      <td>2019-08-14</td>\n",
       "      <td>2019-08-15</td>\n",
       "      <td>1</td>\n",
       "      <td>5545.02</td>\n",
       "      <td>THB</td>\n",
       "      <td>Direct</td>\n",
       "      <td>China</td>\n",
       "      <td>Unknown</td>\n",
       "      <td>Parker</td>\n",
       "      <td>Unknown</td>\n",
       "    </tr>\n",
       "    <tr>\n",
       "      <th>3</th>\n",
       "      <td>Cherry</td>\n",
       "      <td>13921904</td>\n",
       "      <td>2019-09-30</td>\n",
       "      <td>2019-10-01</td>\n",
       "      <td>1</td>\n",
       "      <td>8880.35</td>\n",
       "      <td>THB</td>\n",
       "      <td>Direct</td>\n",
       "      <td>China</td>\n",
       "      <td>Unknown</td>\n",
       "      <td>Murray</td>\n",
       "      <td>Unknown</td>\n",
       "    </tr>\n",
       "    <tr>\n",
       "      <th>4</th>\n",
       "      <td>Cherry</td>\n",
       "      <td>13921944</td>\n",
       "      <td>2019-09-30</td>\n",
       "      <td>2019-10-01</td>\n",
       "      <td>1</td>\n",
       "      <td>8880.35</td>\n",
       "      <td>THB</td>\n",
       "      <td>Direct</td>\n",
       "      <td>China</td>\n",
       "      <td>Unknown</td>\n",
       "      <td>Hines</td>\n",
       "      <td>Unknown</td>\n",
       "    </tr>\n",
       "  </tbody>\n",
       "</table>\n",
       "</div>"
      ],
      "text/plain": [
       "  hotel_name  reservation_no arrival_date deperture_date  room_nights  \\\n",
       "0     Cherry        14232570   2019-08-08     2019-08-09            1   \n",
       "1     Cherry        14321242   2019-08-09     2019-08-10            1   \n",
       "2     Cherry        14308935   2019-08-14     2019-08-15            1   \n",
       "3     Cherry        13921904   2019-09-30     2019-10-01            1   \n",
       "4     Cherry        13921944   2019-09-30     2019-10-01            1   \n",
       "\n",
       "   room_revenue currency_code booking_channel guest_region first_name  \\\n",
       "0       5931.74           THB          Direct        China    Unknown   \n",
       "1       5545.02           THB          Direct        China    Unknown   \n",
       "2       5545.02           THB          Direct        China    Unknown   \n",
       "3       8880.35           THB          Direct        China    Unknown   \n",
       "4       8880.35           THB          Direct        China    Unknown   \n",
       "\n",
       "  last_name guest_email  \n",
       "0    Barnes     Unknown  \n",
       "1     Baker     Unknown  \n",
       "2    Parker     Unknown  \n",
       "3    Murray     Unknown  \n",
       "4     Hines     Unknown  "
      ]
     },
     "execution_count": 18,
     "metadata": {},
     "output_type": "execute_result"
    }
   ],
   "source": [
    "data.head()"
   ]
  },
  {
   "cell_type": "code",
   "execution_count": 19,
   "id": "4e09c3ca",
   "metadata": {},
   "outputs": [
    {
     "name": "stdout",
     "output_type": "stream",
     "text": [
      "<class 'pandas.core.frame.DataFrame'>\n",
      "RangeIndex: 39039 entries, 0 to 39038\n",
      "Data columns (total 12 columns):\n",
      " #   Column           Non-Null Count  Dtype         \n",
      "---  ------           --------------  -----         \n",
      " 0   hotel_name       39039 non-null  object        \n",
      " 1   reservation_no   39039 non-null  int64         \n",
      " 2   arrival_date     39039 non-null  datetime64[ns]\n",
      " 3   deperture_date   39039 non-null  datetime64[ns]\n",
      " 4   room_nights      39039 non-null  int64         \n",
      " 5   room_revenue     39039 non-null  float64       \n",
      " 6   currency_code    39039 non-null  object        \n",
      " 7   booking_channel  39039 non-null  object        \n",
      " 8   guest_region     39039 non-null  object        \n",
      " 9   first_name       39039 non-null  object        \n",
      " 10  last_name        39039 non-null  object        \n",
      " 11  guest_email      39039 non-null  object        \n",
      "dtypes: datetime64[ns](2), float64(1), int64(2), object(7)\n",
      "memory usage: 3.6+ MB\n"
     ]
    }
   ],
   "source": [
    "data.info()"
   ]
  },
  {
   "cell_type": "code",
   "execution_count": 29,
   "id": "52a57169",
   "metadata": {},
   "outputs": [
    {
     "data": {
      "text/plain": [
       "Cherry        16658\n",
       "Blueberry     11246\n",
       "Strawberry    11135\n",
       "Name: hotel_name, dtype: int64"
      ]
     },
     "execution_count": 29,
     "metadata": {},
     "output_type": "execute_result"
    }
   ],
   "source": [
    "data['hotel_name'].value_counts()"
   ]
  },
  {
   "cell_type": "code",
   "execution_count": null,
   "id": "0d37af89",
   "metadata": {},
   "outputs": [],
   "source": [
    "# Export cleaned data\n",
    "# data.to_csv('Hotel Booking Cleaned.csv', index=False)"
   ]
  },
  {
   "cell_type": "markdown",
   "id": "8f3d5002",
   "metadata": {},
   "source": [
    "## EDA on Dataset"
   ]
  },
  {
   "cell_type": "code",
   "execution_count": 104,
   "id": "afe7208d",
   "metadata": {},
   "outputs": [
    {
     "data": {
      "image/png": "[encoded data removed]",
      "text/plain": [
       "<Figure size 1200x600 with 1 Axes>"
      ]
     },
     "metadata": {},
     "output_type": "display_data"
    }
   ],
   "source": [
    "# Calculate daily revenue\n",
    "daily_revenue = data.groupby(data['deperture_date'].dt.date)['room_revenue'].sum()\n",
    "\n",
    "# Create a function to plot daily revenue\n",
    "def plot_daily_revenue(data, title):\n",
    "    plt.figure(figsize=(12, 6))\n",
    "    sns.lineplot(x=data.index, y=data.values)\n",
    "    plt.title(title)\n",
    "    plt.xlabel('Date')\n",
    "    plt.ylabel('Daily Revenue')\n",
    "    plt.show()\n",
    "\n",
    "# Plot for 2019 to 2022\n",
    "plot_daily_revenue(daily_revenue, 'Daily Revenue Over Time - 2019 to 2022')"
   ]
  },
  {
   "cell_type": "markdown",
   "id": "8d47dbab",
   "metadata": {},
   "source": [
    "<div class=\"alert alert-block alert-info\">\n",
    "This dataset contains information for 2019 and 2022 only.\n",
    "</div>"
   ]
  },
  {
   "cell_type": "code",
   "execution_count": 105,
   "id": "76436b1e",
   "metadata": {},
   "outputs": [
    {
     "data": {
      "image/png": "[encoded data removed]",
      "text/plain": [
       "<Figure size 1200x600 with 1 Axes>"
      ]
     },
     "metadata": {},
     "output_type": "display_data"
    },
    {
     "data": {
      "image/png": "[encoded data removed]",
      "text/plain": [
       "<Figure size 1200x600 with 1 Axes>"
      ]
     },
     "metadata": {},
     "output_type": "display_data"
    }
   ],
   "source": [
    "# Filter data for 2019 and 2022\n",
    "data_2019 = data[data['deperture_date'].dt.year == 2019]\n",
    "data_2022 = data[data['deperture_date'].dt.year == 2022]\n",
    "\n",
    "# Calculate daily revenue\n",
    "daily_revenue = data.groupby(data['deperture_date'].dt.date)['room_revenue'].sum()\n",
    "\n",
    "# Create a function to plot daily revenue\n",
    "def plot_daily_revenue(data, title):\n",
    "    daily_revenue = data.groupby(data['deperture_date'].dt.date)['room_revenue'].sum()\n",
    "    plt.figure(figsize=(12, 6))\n",
    "    sns.lineplot(x=daily_revenue.index, y=daily_revenue.values)\n",
    "    plt.title(title)\n",
    "    plt.xlabel('Date')\n",
    "    plt.ylabel('Daily Revenue')\n",
    "    plt.show()\n",
    "\n",
    "# Plot for 2019\n",
    "plot_daily_revenue(data_2019, 'Daily Revenue Over Time - 2019')\n",
    "\n",
    "# Plot for 2022\n",
    "plot_daily_revenue(data_2022, 'Daily Revenue Over Time - 2022')"
   ]
  },
  {
   "cell_type": "markdown",
   "id": "36a8ac8f",
   "metadata": {},
   "source": [
    "# Uploading Exchange Rate Data"
   ]
  },
  {
   "cell_type": "code",
   "execution_count": 30,
   "id": "317e6fc3",
   "metadata": {},
   "outputs": [
    {
     "data": {
      "text/html": [
       "<div>\n",
       "<style scoped>\n",
       "    .dataframe tbody tr th:only-of-type {\n",
       "        vertical-align: middle;\n",
       "    }\n",
       "\n",
       "    .dataframe tbody tr th {\n",
       "        vertical-align: top;\n",
       "    }\n",
       "\n",
       "    .dataframe thead th {\n",
       "        text-align: right;\n",
       "    }\n",
       "</style>\n",
       "<table border=\"1\" class=\"dataframe\">\n",
       "  <thead>\n",
       "    <tr style=\"text-align: right;\">\n",
       "      <th></th>\n",
       "      <th>Period</th>\n",
       "      <th>Buying Rate</th>\n",
       "      <th>Selling Rate</th>\n",
       "    </tr>\n",
       "  </thead>\n",
       "  <tbody>\n",
       "    <tr>\n",
       "      <th>0</th>\n",
       "      <td>2019-01-02</td>\n",
       "      <td>32.1983</td>\n",
       "      <td>32.5345</td>\n",
       "    </tr>\n",
       "    <tr>\n",
       "      <th>1</th>\n",
       "      <td>2019-01-03</td>\n",
       "      <td>32.0442</td>\n",
       "      <td>32.3939</td>\n",
       "    </tr>\n",
       "    <tr>\n",
       "      <th>2</th>\n",
       "      <td>2019-01-04</td>\n",
       "      <td>31.9008</td>\n",
       "      <td>32.2298</td>\n",
       "    </tr>\n",
       "    <tr>\n",
       "      <th>3</th>\n",
       "      <td>2019-01-05</td>\n",
       "      <td>31.9008</td>\n",
       "      <td>32.2298</td>\n",
       "    </tr>\n",
       "    <tr>\n",
       "      <th>4</th>\n",
       "      <td>2019-01-06</td>\n",
       "      <td>31.9008</td>\n",
       "      <td>32.2298</td>\n",
       "    </tr>\n",
       "  </tbody>\n",
       "</table>\n",
       "</div>"
      ],
      "text/plain": [
       "       Period  Buying Rate  Selling Rate\n",
       "0  2019-01-02      32.1983       32.5345\n",
       "1  2019-01-03      32.0442       32.3939\n",
       "2  2019-01-04      31.9008       32.2298\n",
       "3  2019-01-05      31.9008       32.2298\n",
       "4  2019-01-06      31.9008       32.2298"
      ]
     },
     "execution_count": 30,
     "metadata": {},
     "output_type": "execute_result"
    }
   ],
   "source": [
    "exchange_rate = pd.read_csv(r\"/Users/secretgarden/Desktop/Minor Hotels/Data/exchange_rate.csv\")\n",
    "exchange_rate.head()"
   ]
  },
  {
   "cell_type": "code",
   "execution_count": 31,
   "id": "74c8b681",
   "metadata": {},
   "outputs": [
    {
     "data": {
      "text/plain": [
       "Period          0\n",
       "Buying Rate     0\n",
       "Selling Rate    0\n",
       "dtype: int64"
      ]
     },
     "execution_count": 31,
     "metadata": {},
     "output_type": "execute_result"
    }
   ],
   "source": [
    "exchange_rate.isnull().sum()"
   ]
  },
  {
   "cell_type": "code",
   "execution_count": 32,
   "id": "e6585e48",
   "metadata": {},
   "outputs": [
    {
     "data": {
      "text/plain": [
       "(1460, 3)"
      ]
     },
     "execution_count": 32,
     "metadata": {},
     "output_type": "execute_result"
    }
   ],
   "source": [
    "exchange_rate.shape"
   ]
  },
  {
   "cell_type": "markdown",
   "id": "ff25d64e",
   "metadata": {},
   "source": [
    "# Joining Two Tables on 'deperture_date' column and 'Period' column"
   ]
  },
  {
   "cell_type": "code",
   "execution_count": 33,
   "id": "8e02bad4",
   "metadata": {},
   "outputs": [
    {
     "data": {
      "text/html": [
       "<div>\n",
       "<style scoped>\n",
       "    .dataframe tbody tr th:only-of-type {\n",
       "        vertical-align: middle;\n",
       "    }\n",
       "\n",
       "    .dataframe tbody tr th {\n",
       "        vertical-align: top;\n",
       "    }\n",
       "\n",
       "    .dataframe thead th {\n",
       "        text-align: right;\n",
       "    }\n",
       "</style>\n",
       "<table border=\"1\" class=\"dataframe\">\n",
       "  <thead>\n",
       "    <tr style=\"text-align: right;\">\n",
       "      <th></th>\n",
       "      <th>hotel_name</th>\n",
       "      <th>reservation_no</th>\n",
       "      <th>arrival_date</th>\n",
       "      <th>deperture_date</th>\n",
       "      <th>room_nights</th>\n",
       "      <th>room_revenue</th>\n",
       "      <th>currency_code</th>\n",
       "      <th>booking_channel</th>\n",
       "      <th>guest_region</th>\n",
       "      <th>first_name</th>\n",
       "      <th>last_name</th>\n",
       "      <th>guest_email</th>\n",
       "      <th>Period</th>\n",
       "      <th>Buying Rate</th>\n",
       "      <th>Selling Rate</th>\n",
       "    </tr>\n",
       "  </thead>\n",
       "  <tbody>\n",
       "    <tr>\n",
       "      <th>0</th>\n",
       "      <td>Cherry</td>\n",
       "      <td>14232570</td>\n",
       "      <td>2019-08-08</td>\n",
       "      <td>2019-08-09</td>\n",
       "      <td>1</td>\n",
       "      <td>5931.74</td>\n",
       "      <td>THB</td>\n",
       "      <td>Direct</td>\n",
       "      <td>China</td>\n",
       "      <td>Unknown</td>\n",
       "      <td>Barnes</td>\n",
       "      <td>Unknown</td>\n",
       "      <td>2019-08-09</td>\n",
       "      <td>30.5569</td>\n",
       "      <td>30.8932</td>\n",
       "    </tr>\n",
       "    <tr>\n",
       "      <th>1</th>\n",
       "      <td>Cherry</td>\n",
       "      <td>14321242</td>\n",
       "      <td>2019-08-09</td>\n",
       "      <td>2019-08-10</td>\n",
       "      <td>1</td>\n",
       "      <td>5545.02</td>\n",
       "      <td>THB</td>\n",
       "      <td>Direct</td>\n",
       "      <td>China</td>\n",
       "      <td>Unknown</td>\n",
       "      <td>Baker</td>\n",
       "      <td>Unknown</td>\n",
       "      <td>2019-08-10</td>\n",
       "      <td>30.5569</td>\n",
       "      <td>30.8932</td>\n",
       "    </tr>\n",
       "    <tr>\n",
       "      <th>2</th>\n",
       "      <td>Cherry</td>\n",
       "      <td>14308935</td>\n",
       "      <td>2019-08-14</td>\n",
       "      <td>2019-08-15</td>\n",
       "      <td>1</td>\n",
       "      <td>5545.02</td>\n",
       "      <td>THB</td>\n",
       "      <td>Direct</td>\n",
       "      <td>China</td>\n",
       "      <td>Unknown</td>\n",
       "      <td>Parker</td>\n",
       "      <td>Unknown</td>\n",
       "      <td>2019-08-15</td>\n",
       "      <td>30.6757</td>\n",
       "      <td>31.0225</td>\n",
       "    </tr>\n",
       "    <tr>\n",
       "      <th>3</th>\n",
       "      <td>Cherry</td>\n",
       "      <td>13921904</td>\n",
       "      <td>2019-09-30</td>\n",
       "      <td>2019-10-01</td>\n",
       "      <td>1</td>\n",
       "      <td>8880.35</td>\n",
       "      <td>THB</td>\n",
       "      <td>Direct</td>\n",
       "      <td>China</td>\n",
       "      <td>Unknown</td>\n",
       "      <td>Murray</td>\n",
       "      <td>Unknown</td>\n",
       "      <td>2019-10-01</td>\n",
       "      <td>30.4336</td>\n",
       "      <td>30.7753</td>\n",
       "    </tr>\n",
       "    <tr>\n",
       "      <th>4</th>\n",
       "      <td>Cherry</td>\n",
       "      <td>13921944</td>\n",
       "      <td>2019-09-30</td>\n",
       "      <td>2019-10-01</td>\n",
       "      <td>1</td>\n",
       "      <td>8880.35</td>\n",
       "      <td>THB</td>\n",
       "      <td>Direct</td>\n",
       "      <td>China</td>\n",
       "      <td>Unknown</td>\n",
       "      <td>Hines</td>\n",
       "      <td>Unknown</td>\n",
       "      <td>2019-10-01</td>\n",
       "      <td>30.4336</td>\n",
       "      <td>30.7753</td>\n",
       "    </tr>\n",
       "  </tbody>\n",
       "</table>\n",
       "</div>"
      ],
      "text/plain": [
       "  hotel_name  reservation_no arrival_date deperture_date  room_nights  \\\n",
       "0     Cherry        14232570   2019-08-08     2019-08-09            1   \n",
       "1     Cherry        14321242   2019-08-09     2019-08-10            1   \n",
       "2     Cherry        14308935   2019-08-14     2019-08-15            1   \n",
       "3     Cherry        13921904   2019-09-30     2019-10-01            1   \n",
       "4     Cherry        13921944   2019-09-30     2019-10-01            1   \n",
       "\n",
       "   room_revenue currency_code booking_channel guest_region first_name  \\\n",
       "0       5931.74           THB          Direct        China    Unknown   \n",
       "1       5545.02           THB          Direct        China    Unknown   \n",
       "2       5545.02           THB          Direct        China    Unknown   \n",
       "3       8880.35           THB          Direct        China    Unknown   \n",
       "4       8880.35           THB          Direct        China    Unknown   \n",
       "\n",
       "  last_name guest_email     Period  Buying Rate  Selling Rate  \n",
       "0    Barnes     Unknown 2019-08-09      30.5569       30.8932  \n",
       "1     Baker     Unknown 2019-08-10      30.5569       30.8932  \n",
       "2    Parker     Unknown 2019-08-15      30.6757       31.0225  \n",
       "3    Murray     Unknown 2019-10-01      30.4336       30.7753  \n",
       "4     Hines     Unknown 2019-10-01      30.4336       30.7753  "
      ]
     },
     "execution_count": 33,
     "metadata": {},
     "output_type": "execute_result"
    }
   ],
   "source": [
    "# Convert 'Period' column in the exchange_rate DataFrame to datetime\n",
    "exchange_rate['Period'] = pd.to_datetime(exchange_rate['Period'])\n",
    "\n",
    "# Perform the merge on 'deperture_date' and 'Period'\n",
    "# The how='left' parameter indicates that it's a left join, meaning that all rows from the data DataFrame \n",
    "# will be included in the merged DataFrame, and any matching rows from the exchange_rate DataFrame will be added.\n",
    "# In this case, currency conversion date 'Period' is merged with 'deperture_date'\n",
    "merged_data = pd.merge(data, exchange_rate, left_on='deperture_date', right_on='Period', how='left')\n",
    "\n",
    "# Display the merged DataFrame\n",
    "merged_data.head()"
   ]
  },
  {
   "cell_type": "code",
   "execution_count": 34,
   "id": "1c28b9a2",
   "metadata": {},
   "outputs": [
    {
     "data": {
      "text/plain": [
       "hotel_name         0\n",
       "reservation_no     0\n",
       "arrival_date       0\n",
       "deperture_date     0\n",
       "room_nights        0\n",
       "room_revenue       0\n",
       "currency_code      0\n",
       "booking_channel    0\n",
       "guest_region       0\n",
       "first_name         0\n",
       "last_name          0\n",
       "guest_email        0\n",
       "Period             0\n",
       "Buying Rate        0\n",
       "Selling Rate       0\n",
       "dtype: int64"
      ]
     },
     "execution_count": 34,
     "metadata": {},
     "output_type": "execute_result"
    }
   ],
   "source": [
    "merged_data.isnull().sum()"
   ]
  },
  {
   "cell_type": "code",
   "execution_count": 35,
   "id": "bd7ce7ff",
   "metadata": {},
   "outputs": [
    {
     "data": {
      "text/plain": [
       "0"
      ]
     },
     "execution_count": 35,
     "metadata": {},
     "output_type": "execute_result"
    }
   ],
   "source": [
    "merged_data.duplicated().sum()"
   ]
  },
  {
   "cell_type": "code",
   "execution_count": 36,
   "id": "458bf975",
   "metadata": {},
   "outputs": [
    {
     "data": {
      "text/plain": [
       "(39039, 15)"
      ]
     },
     "execution_count": 36,
     "metadata": {},
     "output_type": "execute_result"
    }
   ],
   "source": [
    "merged_data.shape"
   ]
  },
  {
   "cell_type": "code",
   "execution_count": 37,
   "id": "f78ad69b",
   "metadata": {},
   "outputs": [
    {
     "data": {
      "text/html": [
       "<div>\n",
       "<style scoped>\n",
       "    .dataframe tbody tr th:only-of-type {\n",
       "        vertical-align: middle;\n",
       "    }\n",
       "\n",
       "    .dataframe tbody tr th {\n",
       "        vertical-align: top;\n",
       "    }\n",
       "\n",
       "    .dataframe thead th {\n",
       "        text-align: right;\n",
       "    }\n",
       "</style>\n",
       "<table border=\"1\" class=\"dataframe\">\n",
       "  <thead>\n",
       "    <tr style=\"text-align: right;\">\n",
       "      <th></th>\n",
       "      <th>hotel_name</th>\n",
       "      <th>reservation_no</th>\n",
       "      <th>arrival_date</th>\n",
       "      <th>deperture_date</th>\n",
       "      <th>room_nights</th>\n",
       "      <th>room_revenue</th>\n",
       "      <th>currency_code</th>\n",
       "      <th>booking_channel</th>\n",
       "      <th>guest_region</th>\n",
       "      <th>first_name</th>\n",
       "      <th>last_name</th>\n",
       "      <th>guest_email</th>\n",
       "      <th>Period</th>\n",
       "      <th>Buying Rate</th>\n",
       "      <th>Selling Rate</th>\n",
       "      <th>full_name</th>\n",
       "      <th>Revenue_USD</th>\n",
       "    </tr>\n",
       "  </thead>\n",
       "  <tbody>\n",
       "    <tr>\n",
       "      <th>0</th>\n",
       "      <td>Cherry</td>\n",
       "      <td>14232570</td>\n",
       "      <td>2019-08-08</td>\n",
       "      <td>2019-08-09</td>\n",
       "      <td>1</td>\n",
       "      <td>5931.74</td>\n",
       "      <td>THB</td>\n",
       "      <td>Direct</td>\n",
       "      <td>China</td>\n",
       "      <td>Unknown</td>\n",
       "      <td>Barnes</td>\n",
       "      <td>Unknown</td>\n",
       "      <td>2019-08-09</td>\n",
       "      <td>30.5569</td>\n",
       "      <td>30.8932</td>\n",
       "      <td>Unknown Barnes</td>\n",
       "      <td>192.01</td>\n",
       "    </tr>\n",
       "    <tr>\n",
       "      <th>1</th>\n",
       "      <td>Cherry</td>\n",
       "      <td>14321242</td>\n",
       "      <td>2019-08-09</td>\n",
       "      <td>2019-08-10</td>\n",
       "      <td>1</td>\n",
       "      <td>5545.02</td>\n",
       "      <td>THB</td>\n",
       "      <td>Direct</td>\n",
       "      <td>China</td>\n",
       "      <td>Unknown</td>\n",
       "      <td>Baker</td>\n",
       "      <td>Unknown</td>\n",
       "      <td>2019-08-10</td>\n",
       "      <td>30.5569</td>\n",
       "      <td>30.8932</td>\n",
       "      <td>Unknown Baker</td>\n",
       "      <td>179.49</td>\n",
       "    </tr>\n",
       "    <tr>\n",
       "      <th>2</th>\n",
       "      <td>Cherry</td>\n",
       "      <td>14308935</td>\n",
       "      <td>2019-08-14</td>\n",
       "      <td>2019-08-15</td>\n",
       "      <td>1</td>\n",
       "      <td>5545.02</td>\n",
       "      <td>THB</td>\n",
       "      <td>Direct</td>\n",
       "      <td>China</td>\n",
       "      <td>Unknown</td>\n",
       "      <td>Parker</td>\n",
       "      <td>Unknown</td>\n",
       "      <td>2019-08-15</td>\n",
       "      <td>30.6757</td>\n",
       "      <td>31.0225</td>\n",
       "      <td>Unknown Parker</td>\n",
       "      <td>178.74</td>\n",
       "    </tr>\n",
       "    <tr>\n",
       "      <th>3</th>\n",
       "      <td>Cherry</td>\n",
       "      <td>13921904</td>\n",
       "      <td>2019-09-30</td>\n",
       "      <td>2019-10-01</td>\n",
       "      <td>1</td>\n",
       "      <td>8880.35</td>\n",
       "      <td>THB</td>\n",
       "      <td>Direct</td>\n",
       "      <td>China</td>\n",
       "      <td>Unknown</td>\n",
       "      <td>Murray</td>\n",
       "      <td>Unknown</td>\n",
       "      <td>2019-10-01</td>\n",
       "      <td>30.4336</td>\n",
       "      <td>30.7753</td>\n",
       "      <td>Unknown Murray</td>\n",
       "      <td>288.55</td>\n",
       "    </tr>\n",
       "    <tr>\n",
       "      <th>4</th>\n",
       "      <td>Cherry</td>\n",
       "      <td>13921944</td>\n",
       "      <td>2019-09-30</td>\n",
       "      <td>2019-10-01</td>\n",
       "      <td>1</td>\n",
       "      <td>8880.35</td>\n",
       "      <td>THB</td>\n",
       "      <td>Direct</td>\n",
       "      <td>China</td>\n",
       "      <td>Unknown</td>\n",
       "      <td>Hines</td>\n",
       "      <td>Unknown</td>\n",
       "      <td>2019-10-01</td>\n",
       "      <td>30.4336</td>\n",
       "      <td>30.7753</td>\n",
       "      <td>Unknown Hines</td>\n",
       "      <td>288.55</td>\n",
       "    </tr>\n",
       "    <tr>\n",
       "      <th>...</th>\n",
       "      <td>...</td>\n",
       "      <td>...</td>\n",
       "      <td>...</td>\n",
       "      <td>...</td>\n",
       "      <td>...</td>\n",
       "      <td>...</td>\n",
       "      <td>...</td>\n",
       "      <td>...</td>\n",
       "      <td>...</td>\n",
       "      <td>...</td>\n",
       "      <td>...</td>\n",
       "      <td>...</td>\n",
       "      <td>...</td>\n",
       "      <td>...</td>\n",
       "      <td>...</td>\n",
       "      <td>...</td>\n",
       "      <td>...</td>\n",
       "    </tr>\n",
       "    <tr>\n",
       "      <th>39034</th>\n",
       "      <td>Strawberry</td>\n",
       "      <td>21494521</td>\n",
       "      <td>2022-10-01</td>\n",
       "      <td>2022-10-02</td>\n",
       "      <td>1</td>\n",
       "      <td>0.00</td>\n",
       "      <td>USD</td>\n",
       "      <td>Direct</td>\n",
       "      <td>Asia</td>\n",
       "      <td>Joseph</td>\n",
       "      <td>Yu</td>\n",
       "      <td>Unknown</td>\n",
       "      <td>2022-10-02</td>\n",
       "      <td>37.7454</td>\n",
       "      <td>38.0679</td>\n",
       "      <td>Joseph Yu</td>\n",
       "      <td>0.00</td>\n",
       "    </tr>\n",
       "    <tr>\n",
       "      <th>39035</th>\n",
       "      <td>Strawberry</td>\n",
       "      <td>21545467</td>\n",
       "      <td>2022-10-10</td>\n",
       "      <td>2022-10-11</td>\n",
       "      <td>1</td>\n",
       "      <td>0.00</td>\n",
       "      <td>USD</td>\n",
       "      <td>Direct</td>\n",
       "      <td>Asia</td>\n",
       "      <td>Joseph</td>\n",
       "      <td>Yu</td>\n",
       "      <td>Unknown</td>\n",
       "      <td>2022-10-11</td>\n",
       "      <td>37.9381</td>\n",
       "      <td>38.2615</td>\n",
       "      <td>Joseph Yu</td>\n",
       "      <td>0.00</td>\n",
       "    </tr>\n",
       "    <tr>\n",
       "      <th>39036</th>\n",
       "      <td>Strawberry</td>\n",
       "      <td>21716528</td>\n",
       "      <td>2022-11-07</td>\n",
       "      <td>2022-11-08</td>\n",
       "      <td>1</td>\n",
       "      <td>0.00</td>\n",
       "      <td>USD</td>\n",
       "      <td>Direct</td>\n",
       "      <td>Asia</td>\n",
       "      <td>Joseph</td>\n",
       "      <td>Yu</td>\n",
       "      <td>Unknown</td>\n",
       "      <td>2022-11-08</td>\n",
       "      <td>37.1709</td>\n",
       "      <td>37.4936</td>\n",
       "      <td>Joseph Yu</td>\n",
       "      <td>0.00</td>\n",
       "    </tr>\n",
       "    <tr>\n",
       "      <th>39037</th>\n",
       "      <td>Strawberry</td>\n",
       "      <td>18313636</td>\n",
       "      <td>2022-06-12</td>\n",
       "      <td>2022-06-19</td>\n",
       "      <td>7</td>\n",
       "      <td>6116.02</td>\n",
       "      <td>USD</td>\n",
       "      <td>Direct</td>\n",
       "      <td>Middle East</td>\n",
       "      <td>Adrian</td>\n",
       "      <td>Haley</td>\n",
       "      <td>ATerry@comcast.net</td>\n",
       "      <td>2022-06-19</td>\n",
       "      <td>35.0384</td>\n",
       "      <td>35.3562</td>\n",
       "      <td>Adrian Haley</td>\n",
       "      <td>6116.02</td>\n",
       "    </tr>\n",
       "    <tr>\n",
       "      <th>39038</th>\n",
       "      <td>Strawberry</td>\n",
       "      <td>13304131</td>\n",
       "      <td>2019-07-21</td>\n",
       "      <td>2019-07-25</td>\n",
       "      <td>4</td>\n",
       "      <td>3220.40</td>\n",
       "      <td>USD</td>\n",
       "      <td>Direct</td>\n",
       "      <td>North America</td>\n",
       "      <td>Michelle</td>\n",
       "      <td>Perez</td>\n",
       "      <td>Michelle_F58@att.com</td>\n",
       "      <td>2019-07-25</td>\n",
       "      <td>30.7347</td>\n",
       "      <td>31.0830</td>\n",
       "      <td>Michelle Perez</td>\n",
       "      <td>3220.40</td>\n",
       "    </tr>\n",
       "  </tbody>\n",
       "</table>\n",
       "<p>39039 rows × 17 columns</p>\n",
       "</div>"
      ],
      "text/plain": [
       "       hotel_name  reservation_no arrival_date deperture_date  room_nights  \\\n",
       "0          Cherry        14232570   2019-08-08     2019-08-09            1   \n",
       "1          Cherry        14321242   2019-08-09     2019-08-10            1   \n",
       "2          Cherry        14308935   2019-08-14     2019-08-15            1   \n",
       "3          Cherry        13921904   2019-09-30     2019-10-01            1   \n",
       "4          Cherry        13921944   2019-09-30     2019-10-01            1   \n",
       "...           ...             ...          ...            ...          ...   \n",
       "39034  Strawberry        21494521   2022-10-01     2022-10-02            1   \n",
       "39035  Strawberry        21545467   2022-10-10     2022-10-11            1   \n",
       "39036  Strawberry        21716528   2022-11-07     2022-11-08            1   \n",
       "39037  Strawberry        18313636   2022-06-12     2022-06-19            7   \n",
       "39038  Strawberry        13304131   2019-07-21     2019-07-25            4   \n",
       "\n",
       "       room_revenue currency_code booking_channel   guest_region first_name  \\\n",
       "0           5931.74           THB          Direct          China    Unknown   \n",
       "1           5545.02           THB          Direct          China    Unknown   \n",
       "2           5545.02           THB          Direct          China    Unknown   \n",
       "3           8880.35           THB          Direct          China    Unknown   \n",
       "4           8880.35           THB          Direct          China    Unknown   \n",
       "...             ...           ...             ...            ...        ...   \n",
       "39034          0.00           USD          Direct           Asia     Joseph   \n",
       "39035          0.00           USD          Direct           Asia     Joseph   \n",
       "39036          0.00           USD          Direct           Asia     Joseph   \n",
       "39037       6116.02           USD          Direct    Middle East     Adrian   \n",
       "39038       3220.40           USD          Direct  North America   Michelle   \n",
       "\n",
       "      last_name           guest_email     Period  Buying Rate  Selling Rate  \\\n",
       "0        Barnes               Unknown 2019-08-09      30.5569       30.8932   \n",
       "1         Baker               Unknown 2019-08-10      30.5569       30.8932   \n",
       "2        Parker               Unknown 2019-08-15      30.6757       31.0225   \n",
       "3        Murray               Unknown 2019-10-01      30.4336       30.7753   \n",
       "4         Hines               Unknown 2019-10-01      30.4336       30.7753   \n",
       "...         ...                   ...        ...          ...           ...   \n",
       "39034        Yu               Unknown 2022-10-02      37.7454       38.0679   \n",
       "39035        Yu               Unknown 2022-10-11      37.9381       38.2615   \n",
       "39036        Yu               Unknown 2022-11-08      37.1709       37.4936   \n",
       "39037     Haley    ATerry@comcast.net 2022-06-19      35.0384       35.3562   \n",
       "39038     Perez  Michelle_F58@att.com 2019-07-25      30.7347       31.0830   \n",
       "\n",
       "            full_name  Revenue_USD  \n",
       "0      Unknown Barnes       192.01  \n",
       "1       Unknown Baker       179.49  \n",
       "2      Unknown Parker       178.74  \n",
       "3      Unknown Murray       288.55  \n",
       "4       Unknown Hines       288.55  \n",
       "...               ...          ...  \n",
       "39034       Joseph Yu         0.00  \n",
       "39035       Joseph Yu         0.00  \n",
       "39036       Joseph Yu         0.00  \n",
       "39037    Adrian Haley      6116.02  \n",
       "39038  Michelle Perez      3220.40  \n",
       "\n",
       "[39039 rows x 17 columns]"
      ]
     },
     "execution_count": 37,
     "metadata": {},
     "output_type": "execute_result"
    }
   ],
   "source": [
    "# Assuming your DataFrame is named 'merged_data'\n",
    "merged_data['full_name'] = merged_data['first_name'] + ' ' + merged_data['last_name']\n",
    "\n",
    "# Create a new column 'Revenue (USD)' and use np.where to apply conditions\n",
    "merged_data['Revenue_USD'] = np.where(merged_data['currency_code'] == 'THB',\n",
    "                                        merged_data['room_revenue'] / merged_data['Selling Rate'], \n",
    "                                        merged_data['room_revenue'])\n",
    "\n",
    "merged_data['Revenue_USD'] = merged_data['Revenue_USD'].round(2)\n",
    "\n",
    "# Display the updated DataFrame\n",
    "merged_data"
   ]
  },
  {
   "cell_type": "code",
   "execution_count": 38,
   "id": "45d47552",
   "metadata": {},
   "outputs": [
    {
     "data": {
      "text/html": [
       "<div>\n",
       "<style scoped>\n",
       "    .dataframe tbody tr th:only-of-type {\n",
       "        vertical-align: middle;\n",
       "    }\n",
       "\n",
       "    .dataframe tbody tr th {\n",
       "        vertical-align: top;\n",
       "    }\n",
       "\n",
       "    .dataframe thead th {\n",
       "        text-align: right;\n",
       "    }\n",
       "</style>\n",
       "<table border=\"1\" class=\"dataframe\">\n",
       "  <thead>\n",
       "    <tr style=\"text-align: right;\">\n",
       "      <th></th>\n",
       "      <th>hotel_name</th>\n",
       "      <th>reservation_no</th>\n",
       "      <th>arrival_date</th>\n",
       "      <th>deperture_date</th>\n",
       "      <th>room_nights</th>\n",
       "      <th>room_revenue</th>\n",
       "      <th>currency_code</th>\n",
       "      <th>booking_channel</th>\n",
       "      <th>guest_region</th>\n",
       "      <th>first_name</th>\n",
       "      <th>last_name</th>\n",
       "      <th>guest_email</th>\n",
       "      <th>Period</th>\n",
       "      <th>Buying Rate</th>\n",
       "      <th>Selling Rate</th>\n",
       "      <th>full_name</th>\n",
       "      <th>Revenue_USD</th>\n",
       "      <th>Revenue_THB</th>\n",
       "    </tr>\n",
       "  </thead>\n",
       "  <tbody>\n",
       "    <tr>\n",
       "      <th>0</th>\n",
       "      <td>Cherry</td>\n",
       "      <td>14232570</td>\n",
       "      <td>2019-08-08</td>\n",
       "      <td>2019-08-09</td>\n",
       "      <td>1</td>\n",
       "      <td>5931.74</td>\n",
       "      <td>THB</td>\n",
       "      <td>Direct</td>\n",
       "      <td>China</td>\n",
       "      <td>Unknown</td>\n",
       "      <td>Barnes</td>\n",
       "      <td>Unknown</td>\n",
       "      <td>2019-08-09</td>\n",
       "      <td>30.5569</td>\n",
       "      <td>30.8932</td>\n",
       "      <td>Unknown Barnes</td>\n",
       "      <td>192.01</td>\n",
       "      <td>5931.74</td>\n",
       "    </tr>\n",
       "    <tr>\n",
       "      <th>1</th>\n",
       "      <td>Cherry</td>\n",
       "      <td>14321242</td>\n",
       "      <td>2019-08-09</td>\n",
       "      <td>2019-08-10</td>\n",
       "      <td>1</td>\n",
       "      <td>5545.02</td>\n",
       "      <td>THB</td>\n",
       "      <td>Direct</td>\n",
       "      <td>China</td>\n",
       "      <td>Unknown</td>\n",
       "      <td>Baker</td>\n",
       "      <td>Unknown</td>\n",
       "      <td>2019-08-10</td>\n",
       "      <td>30.5569</td>\n",
       "      <td>30.8932</td>\n",
       "      <td>Unknown Baker</td>\n",
       "      <td>179.49</td>\n",
       "      <td>5545.02</td>\n",
       "    </tr>\n",
       "    <tr>\n",
       "      <th>2</th>\n",
       "      <td>Cherry</td>\n",
       "      <td>14308935</td>\n",
       "      <td>2019-08-14</td>\n",
       "      <td>2019-08-15</td>\n",
       "      <td>1</td>\n",
       "      <td>5545.02</td>\n",
       "      <td>THB</td>\n",
       "      <td>Direct</td>\n",
       "      <td>China</td>\n",
       "      <td>Unknown</td>\n",
       "      <td>Parker</td>\n",
       "      <td>Unknown</td>\n",
       "      <td>2019-08-15</td>\n",
       "      <td>30.6757</td>\n",
       "      <td>31.0225</td>\n",
       "      <td>Unknown Parker</td>\n",
       "      <td>178.74</td>\n",
       "      <td>5545.02</td>\n",
       "    </tr>\n",
       "    <tr>\n",
       "      <th>3</th>\n",
       "      <td>Cherry</td>\n",
       "      <td>13921904</td>\n",
       "      <td>2019-09-30</td>\n",
       "      <td>2019-10-01</td>\n",
       "      <td>1</td>\n",
       "      <td>8880.35</td>\n",
       "      <td>THB</td>\n",
       "      <td>Direct</td>\n",
       "      <td>China</td>\n",
       "      <td>Unknown</td>\n",
       "      <td>Murray</td>\n",
       "      <td>Unknown</td>\n",
       "      <td>2019-10-01</td>\n",
       "      <td>30.4336</td>\n",
       "      <td>30.7753</td>\n",
       "      <td>Unknown Murray</td>\n",
       "      <td>288.55</td>\n",
       "      <td>8880.35</td>\n",
       "    </tr>\n",
       "    <tr>\n",
       "      <th>4</th>\n",
       "      <td>Cherry</td>\n",
       "      <td>13921944</td>\n",
       "      <td>2019-09-30</td>\n",
       "      <td>2019-10-01</td>\n",
       "      <td>1</td>\n",
       "      <td>8880.35</td>\n",
       "      <td>THB</td>\n",
       "      <td>Direct</td>\n",
       "      <td>China</td>\n",
       "      <td>Unknown</td>\n",
       "      <td>Hines</td>\n",
       "      <td>Unknown</td>\n",
       "      <td>2019-10-01</td>\n",
       "      <td>30.4336</td>\n",
       "      <td>30.7753</td>\n",
       "      <td>Unknown Hines</td>\n",
       "      <td>288.55</td>\n",
       "      <td>8880.35</td>\n",
       "    </tr>\n",
       "    <tr>\n",
       "      <th>...</th>\n",
       "      <td>...</td>\n",
       "      <td>...</td>\n",
       "      <td>...</td>\n",
       "      <td>...</td>\n",
       "      <td>...</td>\n",
       "      <td>...</td>\n",
       "      <td>...</td>\n",
       "      <td>...</td>\n",
       "      <td>...</td>\n",
       "      <td>...</td>\n",
       "      <td>...</td>\n",
       "      <td>...</td>\n",
       "      <td>...</td>\n",
       "      <td>...</td>\n",
       "      <td>...</td>\n",
       "      <td>...</td>\n",
       "      <td>...</td>\n",
       "      <td>...</td>\n",
       "    </tr>\n",
       "    <tr>\n",
       "      <th>39034</th>\n",
       "      <td>Strawberry</td>\n",
       "      <td>21494521</td>\n",
       "      <td>2022-10-01</td>\n",
       "      <td>2022-10-02</td>\n",
       "      <td>1</td>\n",
       "      <td>0.00</td>\n",
       "      <td>USD</td>\n",
       "      <td>Direct</td>\n",
       "      <td>Asia</td>\n",
       "      <td>Joseph</td>\n",
       "      <td>Yu</td>\n",
       "      <td>Unknown</td>\n",
       "      <td>2022-10-02</td>\n",
       "      <td>37.7454</td>\n",
       "      <td>38.0679</td>\n",
       "      <td>Joseph Yu</td>\n",
       "      <td>0.00</td>\n",
       "      <td>0.00</td>\n",
       "    </tr>\n",
       "    <tr>\n",
       "      <th>39035</th>\n",
       "      <td>Strawberry</td>\n",
       "      <td>21545467</td>\n",
       "      <td>2022-10-10</td>\n",
       "      <td>2022-10-11</td>\n",
       "      <td>1</td>\n",
       "      <td>0.00</td>\n",
       "      <td>USD</td>\n",
       "      <td>Direct</td>\n",
       "      <td>Asia</td>\n",
       "      <td>Joseph</td>\n",
       "      <td>Yu</td>\n",
       "      <td>Unknown</td>\n",
       "      <td>2022-10-11</td>\n",
       "      <td>37.9381</td>\n",
       "      <td>38.2615</td>\n",
       "      <td>Joseph Yu</td>\n",
       "      <td>0.00</td>\n",
       "      <td>0.00</td>\n",
       "    </tr>\n",
       "    <tr>\n",
       "      <th>39036</th>\n",
       "      <td>Strawberry</td>\n",
       "      <td>21716528</td>\n",
       "      <td>2022-11-07</td>\n",
       "      <td>2022-11-08</td>\n",
       "      <td>1</td>\n",
       "      <td>0.00</td>\n",
       "      <td>USD</td>\n",
       "      <td>Direct</td>\n",
       "      <td>Asia</td>\n",
       "      <td>Joseph</td>\n",
       "      <td>Yu</td>\n",
       "      <td>Unknown</td>\n",
       "      <td>2022-11-08</td>\n",
       "      <td>37.1709</td>\n",
       "      <td>37.4936</td>\n",
       "      <td>Joseph Yu</td>\n",
       "      <td>0.00</td>\n",
       "      <td>0.00</td>\n",
       "    </tr>\n",
       "    <tr>\n",
       "      <th>39037</th>\n",
       "      <td>Strawberry</td>\n",
       "      <td>18313636</td>\n",
       "      <td>2022-06-12</td>\n",
       "      <td>2022-06-19</td>\n",
       "      <td>7</td>\n",
       "      <td>6116.02</td>\n",
       "      <td>USD</td>\n",
       "      <td>Direct</td>\n",
       "      <td>Middle East</td>\n",
       "      <td>Adrian</td>\n",
       "      <td>Haley</td>\n",
       "      <td>ATerry@comcast.net</td>\n",
       "      <td>2022-06-19</td>\n",
       "      <td>35.0384</td>\n",
       "      <td>35.3562</td>\n",
       "      <td>Adrian Haley</td>\n",
       "      <td>6116.02</td>\n",
       "      <td>214295.56</td>\n",
       "    </tr>\n",
       "    <tr>\n",
       "      <th>39038</th>\n",
       "      <td>Strawberry</td>\n",
       "      <td>13304131</td>\n",
       "      <td>2019-07-21</td>\n",
       "      <td>2019-07-25</td>\n",
       "      <td>4</td>\n",
       "      <td>3220.40</td>\n",
       "      <td>USD</td>\n",
       "      <td>Direct</td>\n",
       "      <td>North America</td>\n",
       "      <td>Michelle</td>\n",
       "      <td>Perez</td>\n",
       "      <td>Michelle_F58@att.com</td>\n",
       "      <td>2019-07-25</td>\n",
       "      <td>30.7347</td>\n",
       "      <td>31.0830</td>\n",
       "      <td>Michelle Perez</td>\n",
       "      <td>3220.40</td>\n",
       "      <td>98978.03</td>\n",
       "    </tr>\n",
       "  </tbody>\n",
       "</table>\n",
       "<p>39039 rows × 18 columns</p>\n",
       "</div>"
      ],
      "text/plain": [
       "       hotel_name  reservation_no arrival_date deperture_date  room_nights  \\\n",
       "0          Cherry        14232570   2019-08-08     2019-08-09            1   \n",
       "1          Cherry        14321242   2019-08-09     2019-08-10            1   \n",
       "2          Cherry        14308935   2019-08-14     2019-08-15            1   \n",
       "3          Cherry        13921904   2019-09-30     2019-10-01            1   \n",
       "4          Cherry        13921944   2019-09-30     2019-10-01            1   \n",
       "...           ...             ...          ...            ...          ...   \n",
       "39034  Strawberry        21494521   2022-10-01     2022-10-02            1   \n",
       "39035  Strawberry        21545467   2022-10-10     2022-10-11            1   \n",
       "39036  Strawberry        21716528   2022-11-07     2022-11-08            1   \n",
       "39037  Strawberry        18313636   2022-06-12     2022-06-19            7   \n",
       "39038  Strawberry        13304131   2019-07-21     2019-07-25            4   \n",
       "\n",
       "       room_revenue currency_code booking_channel   guest_region first_name  \\\n",
       "0           5931.74           THB          Direct          China    Unknown   \n",
       "1           5545.02           THB          Direct          China    Unknown   \n",
       "2           5545.02           THB          Direct          China    Unknown   \n",
       "3           8880.35           THB          Direct          China    Unknown   \n",
       "4           8880.35           THB          Direct          China    Unknown   \n",
       "...             ...           ...             ...            ...        ...   \n",
       "39034          0.00           USD          Direct           Asia     Joseph   \n",
       "39035          0.00           USD          Direct           Asia     Joseph   \n",
       "39036          0.00           USD          Direct           Asia     Joseph   \n",
       "39037       6116.02           USD          Direct    Middle East     Adrian   \n",
       "39038       3220.40           USD          Direct  North America   Michelle   \n",
       "\n",
       "      last_name           guest_email     Period  Buying Rate  Selling Rate  \\\n",
       "0        Barnes               Unknown 2019-08-09      30.5569       30.8932   \n",
       "1         Baker               Unknown 2019-08-10      30.5569       30.8932   \n",
       "2        Parker               Unknown 2019-08-15      30.6757       31.0225   \n",
       "3        Murray               Unknown 2019-10-01      30.4336       30.7753   \n",
       "4         Hines               Unknown 2019-10-01      30.4336       30.7753   \n",
       "...         ...                   ...        ...          ...           ...   \n",
       "39034        Yu               Unknown 2022-10-02      37.7454       38.0679   \n",
       "39035        Yu               Unknown 2022-10-11      37.9381       38.2615   \n",
       "39036        Yu               Unknown 2022-11-08      37.1709       37.4936   \n",
       "39037     Haley    ATerry@comcast.net 2022-06-19      35.0384       35.3562   \n",
       "39038     Perez  Michelle_F58@att.com 2019-07-25      30.7347       31.0830   \n",
       "\n",
       "            full_name  Revenue_USD  Revenue_THB  \n",
       "0      Unknown Barnes       192.01      5931.74  \n",
       "1       Unknown Baker       179.49      5545.02  \n",
       "2      Unknown Parker       178.74      5545.02  \n",
       "3      Unknown Murray       288.55      8880.35  \n",
       "4       Unknown Hines       288.55      8880.35  \n",
       "...               ...          ...          ...  \n",
       "39034       Joseph Yu         0.00         0.00  \n",
       "39035       Joseph Yu         0.00         0.00  \n",
       "39036       Joseph Yu         0.00         0.00  \n",
       "39037    Adrian Haley      6116.02    214295.56  \n",
       "39038  Michelle Perez      3220.40     98978.03  \n",
       "\n",
       "[39039 rows x 18 columns]"
      ]
     },
     "execution_count": 38,
     "metadata": {},
     "output_type": "execute_result"
    }
   ],
   "source": [
    "# Assuming your DataFrame is named 'merged_data'\n",
    "merged_data['full_name'] = merged_data['first_name'] + ' ' + merged_data['last_name']\n",
    "\n",
    "# Create a new column 'Revenue (THB)' and use np.where to apply conditions\n",
    "merged_data['Revenue_THB'] = np.where(merged_data['currency_code'] == 'USD',\n",
    "                                        merged_data['room_revenue'] * merged_data['Buying Rate'], \n",
    "                                        merged_data['room_revenue'])\n",
    "\n",
    "merged_data['Revenue_THB'] = merged_data['Revenue_THB'].round(2)\n",
    "\n",
    "# Display the updated DataFrame\n",
    "merged_data"
   ]
  },
  {
   "cell_type": "code",
   "execution_count": 107,
   "id": "3e86ca90",
   "metadata": {},
   "outputs": [],
   "source": [
    "# merged_data.to_csv('Final.csv', index=False)"
   ]
  },
  {
   "cell_type": "code",
   "execution_count": 40,
   "id": "05efae8b",
   "metadata": {},
   "outputs": [
    {
     "data": {
      "text/plain": [
       "array(['THB', 'USD'], dtype=object)"
      ]
     },
     "execution_count": 40,
     "metadata": {},
     "output_type": "execute_result"
    }
   ],
   "source": [
    "merged_data['currency_code'].unique()"
   ]
  },
  {
   "cell_type": "code",
   "execution_count": 41,
   "id": "4b75b5e5",
   "metadata": {},
   "outputs": [
    {
     "name": "stdout",
     "output_type": "stream",
     "text": [
      "<class 'pandas.core.frame.DataFrame'>\n",
      "Int64Index: 39039 entries, 0 to 39038\n",
      "Data columns (total 18 columns):\n",
      " #   Column           Non-Null Count  Dtype         \n",
      "---  ------           --------------  -----         \n",
      " 0   hotel_name       39039 non-null  object        \n",
      " 1   reservation_no   39039 non-null  int64         \n",
      " 2   arrival_date     39039 non-null  datetime64[ns]\n",
      " 3   deperture_date   39039 non-null  datetime64[ns]\n",
      " 4   room_nights      39039 non-null  int64         \n",
      " 5   room_revenue     39039 non-null  float64       \n",
      " 6   currency_code    39039 non-null  object        \n",
      " 7   booking_channel  39039 non-null  object        \n",
      " 8   guest_region     39039 non-null  object        \n",
      " 9   first_name       39039 non-null  object        \n",
      " 10  last_name        39039 non-null  object        \n",
      " 11  guest_email      39039 non-null  object        \n",
      " 12  Period           39039 non-null  datetime64[ns]\n",
      " 13  Buying Rate      39039 non-null  float64       \n",
      " 14  Selling Rate     39039 non-null  float64       \n",
      " 15  full_name        39039 non-null  object        \n",
      " 16  Revenue_USD      39039 non-null  float64       \n",
      " 17  Revenue_THB      39039 non-null  float64       \n",
      "dtypes: datetime64[ns](3), float64(5), int64(2), object(8)\n",
      "memory usage: 5.7+ MB\n"
     ]
    }
   ],
   "source": [
    "merged_data.info()"
   ]
  },
  {
   "cell_type": "code",
   "execution_count": 42,
   "id": "ece3c1e3",
   "metadata": {},
   "outputs": [
    {
     "data": {
      "text/html": [
       "<div>\n",
       "<style scoped>\n",
       "    .dataframe tbody tr th:only-of-type {\n",
       "        vertical-align: middle;\n",
       "    }\n",
       "\n",
       "    .dataframe tbody tr th {\n",
       "        vertical-align: top;\n",
       "    }\n",
       "\n",
       "    .dataframe thead th {\n",
       "        text-align: right;\n",
       "    }\n",
       "</style>\n",
       "<table border=\"1\" class=\"dataframe\">\n",
       "  <thead>\n",
       "    <tr style=\"text-align: right;\">\n",
       "      <th></th>\n",
       "      <th>hotel_name</th>\n",
       "      <th>reservation_no</th>\n",
       "      <th>arrival_date</th>\n",
       "      <th>deperture_date</th>\n",
       "      <th>room_nights</th>\n",
       "      <th>room_revenue</th>\n",
       "      <th>currency_code</th>\n",
       "      <th>booking_channel</th>\n",
       "      <th>guest_region</th>\n",
       "      <th>first_name</th>\n",
       "      <th>last_name</th>\n",
       "      <th>guest_email</th>\n",
       "      <th>Period</th>\n",
       "      <th>Buying Rate</th>\n",
       "      <th>Selling Rate</th>\n",
       "      <th>full_name</th>\n",
       "      <th>Revenue_USD</th>\n",
       "      <th>Revenue_THB</th>\n",
       "    </tr>\n",
       "  </thead>\n",
       "  <tbody>\n",
       "    <tr>\n",
       "      <th>6</th>\n",
       "      <td>Cherry</td>\n",
       "      <td>18472487</td>\n",
       "      <td>2022-06-26</td>\n",
       "      <td>2022-06-27</td>\n",
       "      <td>1</td>\n",
       "      <td>0.0</td>\n",
       "      <td>THB</td>\n",
       "      <td>Direct</td>\n",
       "      <td>Thailand</td>\n",
       "      <td>Unknown</td>\n",
       "      <td>Rangel</td>\n",
       "      <td>Unknown</td>\n",
       "      <td>2022-06-27</td>\n",
       "      <td>35.2528</td>\n",
       "      <td>35.5839</td>\n",
       "      <td>Unknown Rangel</td>\n",
       "      <td>0.0</td>\n",
       "      <td>0.0</td>\n",
       "    </tr>\n",
       "    <tr>\n",
       "      <th>8</th>\n",
       "      <td>Cherry</td>\n",
       "      <td>21507180</td>\n",
       "      <td>2022-10-03</td>\n",
       "      <td>2022-10-04</td>\n",
       "      <td>1</td>\n",
       "      <td>0.0</td>\n",
       "      <td>THB</td>\n",
       "      <td>Direct</td>\n",
       "      <td>Thailand</td>\n",
       "      <td>Unknown</td>\n",
       "      <td>Murphy</td>\n",
       "      <td>Unknown</td>\n",
       "      <td>2022-10-04</td>\n",
       "      <td>37.6018</td>\n",
       "      <td>37.9276</td>\n",
       "      <td>Unknown Murphy</td>\n",
       "      <td>0.0</td>\n",
       "      <td>0.0</td>\n",
       "    </tr>\n",
       "    <tr>\n",
       "      <th>9</th>\n",
       "      <td>Cherry</td>\n",
       "      <td>21507916</td>\n",
       "      <td>2022-10-03</td>\n",
       "      <td>2022-10-04</td>\n",
       "      <td>1</td>\n",
       "      <td>0.0</td>\n",
       "      <td>THB</td>\n",
       "      <td>Direct</td>\n",
       "      <td>Thailand</td>\n",
       "      <td>Unknown</td>\n",
       "      <td>Moore</td>\n",
       "      <td>Unknown</td>\n",
       "      <td>2022-10-04</td>\n",
       "      <td>37.6018</td>\n",
       "      <td>37.9276</td>\n",
       "      <td>Unknown Moore</td>\n",
       "      <td>0.0</td>\n",
       "      <td>0.0</td>\n",
       "    </tr>\n",
       "    <tr>\n",
       "      <th>10</th>\n",
       "      <td>Cherry</td>\n",
       "      <td>21515050</td>\n",
       "      <td>2022-10-04</td>\n",
       "      <td>2022-10-05</td>\n",
       "      <td>1</td>\n",
       "      <td>0.0</td>\n",
       "      <td>THB</td>\n",
       "      <td>Direct</td>\n",
       "      <td>Thailand</td>\n",
       "      <td>Unknown</td>\n",
       "      <td>PhD</td>\n",
       "      <td>Unknown</td>\n",
       "      <td>2022-10-05</td>\n",
       "      <td>37.2390</td>\n",
       "      <td>37.5592</td>\n",
       "      <td>Unknown PhD</td>\n",
       "      <td>0.0</td>\n",
       "      <td>0.0</td>\n",
       "    </tr>\n",
       "    <tr>\n",
       "      <th>11</th>\n",
       "      <td>Cherry</td>\n",
       "      <td>21507179</td>\n",
       "      <td>2022-10-03</td>\n",
       "      <td>2022-10-04</td>\n",
       "      <td>1</td>\n",
       "      <td>0.0</td>\n",
       "      <td>THB</td>\n",
       "      <td>Direct</td>\n",
       "      <td>Thailand</td>\n",
       "      <td>Unknown</td>\n",
       "      <td>Smith</td>\n",
       "      <td>Unknown</td>\n",
       "      <td>2022-10-04</td>\n",
       "      <td>37.6018</td>\n",
       "      <td>37.9276</td>\n",
       "      <td>Unknown Smith</td>\n",
       "      <td>0.0</td>\n",
       "      <td>0.0</td>\n",
       "    </tr>\n",
       "    <tr>\n",
       "      <th>...</th>\n",
       "      <td>...</td>\n",
       "      <td>...</td>\n",
       "      <td>...</td>\n",
       "      <td>...</td>\n",
       "      <td>...</td>\n",
       "      <td>...</td>\n",
       "      <td>...</td>\n",
       "      <td>...</td>\n",
       "      <td>...</td>\n",
       "      <td>...</td>\n",
       "      <td>...</td>\n",
       "      <td>...</td>\n",
       "      <td>...</td>\n",
       "      <td>...</td>\n",
       "      <td>...</td>\n",
       "      <td>...</td>\n",
       "      <td>...</td>\n",
       "      <td>...</td>\n",
       "    </tr>\n",
       "    <tr>\n",
       "      <th>39024</th>\n",
       "      <td>Strawberry</td>\n",
       "      <td>13686186</td>\n",
       "      <td>2019-04-23</td>\n",
       "      <td>2019-04-25</td>\n",
       "      <td>2</td>\n",
       "      <td>0.0</td>\n",
       "      <td>USD</td>\n",
       "      <td>OTA</td>\n",
       "      <td>Europe</td>\n",
       "      <td>Selena</td>\n",
       "      <td>Santiago</td>\n",
       "      <td>SelenaGomez@protonmail.com</td>\n",
       "      <td>2019-04-25</td>\n",
       "      <td>31.8827</td>\n",
       "      <td>32.2320</td>\n",
       "      <td>Selena Santiago</td>\n",
       "      <td>0.0</td>\n",
       "      <td>0.0</td>\n",
       "    </tr>\n",
       "    <tr>\n",
       "      <th>39025</th>\n",
       "      <td>Strawberry</td>\n",
       "      <td>14716940</td>\n",
       "      <td>2019-10-23</td>\n",
       "      <td>2019-10-26</td>\n",
       "      <td>3</td>\n",
       "      <td>0.0</td>\n",
       "      <td>USD</td>\n",
       "      <td>Web</td>\n",
       "      <td>Europe</td>\n",
       "      <td>Selena</td>\n",
       "      <td>Santiago</td>\n",
       "      <td>SelenaGomez@protonmail.com</td>\n",
       "      <td>2019-10-26</td>\n",
       "      <td>30.0635</td>\n",
       "      <td>30.4052</td>\n",
       "      <td>Selena Santiago</td>\n",
       "      <td>0.0</td>\n",
       "      <td>0.0</td>\n",
       "    </tr>\n",
       "    <tr>\n",
       "      <th>39034</th>\n",
       "      <td>Strawberry</td>\n",
       "      <td>21494521</td>\n",
       "      <td>2022-10-01</td>\n",
       "      <td>2022-10-02</td>\n",
       "      <td>1</td>\n",
       "      <td>0.0</td>\n",
       "      <td>USD</td>\n",
       "      <td>Direct</td>\n",
       "      <td>Asia</td>\n",
       "      <td>Joseph</td>\n",
       "      <td>Yu</td>\n",
       "      <td>Unknown</td>\n",
       "      <td>2022-10-02</td>\n",
       "      <td>37.7454</td>\n",
       "      <td>38.0679</td>\n",
       "      <td>Joseph Yu</td>\n",
       "      <td>0.0</td>\n",
       "      <td>0.0</td>\n",
       "    </tr>\n",
       "    <tr>\n",
       "      <th>39035</th>\n",
       "      <td>Strawberry</td>\n",
       "      <td>21545467</td>\n",
       "      <td>2022-10-10</td>\n",
       "      <td>2022-10-11</td>\n",
       "      <td>1</td>\n",
       "      <td>0.0</td>\n",
       "      <td>USD</td>\n",
       "      <td>Direct</td>\n",
       "      <td>Asia</td>\n",
       "      <td>Joseph</td>\n",
       "      <td>Yu</td>\n",
       "      <td>Unknown</td>\n",
       "      <td>2022-10-11</td>\n",
       "      <td>37.9381</td>\n",
       "      <td>38.2615</td>\n",
       "      <td>Joseph Yu</td>\n",
       "      <td>0.0</td>\n",
       "      <td>0.0</td>\n",
       "    </tr>\n",
       "    <tr>\n",
       "      <th>39036</th>\n",
       "      <td>Strawberry</td>\n",
       "      <td>21716528</td>\n",
       "      <td>2022-11-07</td>\n",
       "      <td>2022-11-08</td>\n",
       "      <td>1</td>\n",
       "      <td>0.0</td>\n",
       "      <td>USD</td>\n",
       "      <td>Direct</td>\n",
       "      <td>Asia</td>\n",
       "      <td>Joseph</td>\n",
       "      <td>Yu</td>\n",
       "      <td>Unknown</td>\n",
       "      <td>2022-11-08</td>\n",
       "      <td>37.1709</td>\n",
       "      <td>37.4936</td>\n",
       "      <td>Joseph Yu</td>\n",
       "      <td>0.0</td>\n",
       "      <td>0.0</td>\n",
       "    </tr>\n",
       "  </tbody>\n",
       "</table>\n",
       "<p>3622 rows × 18 columns</p>\n",
       "</div>"
      ],
      "text/plain": [
       "       hotel_name  reservation_no arrival_date deperture_date  room_nights  \\\n",
       "6          Cherry        18472487   2022-06-26     2022-06-27            1   \n",
       "8          Cherry        21507180   2022-10-03     2022-10-04            1   \n",
       "9          Cherry        21507916   2022-10-03     2022-10-04            1   \n",
       "10         Cherry        21515050   2022-10-04     2022-10-05            1   \n",
       "11         Cherry        21507179   2022-10-03     2022-10-04            1   \n",
       "...           ...             ...          ...            ...          ...   \n",
       "39024  Strawberry        13686186   2019-04-23     2019-04-25            2   \n",
       "39025  Strawberry        14716940   2019-10-23     2019-10-26            3   \n",
       "39034  Strawberry        21494521   2022-10-01     2022-10-02            1   \n",
       "39035  Strawberry        21545467   2022-10-10     2022-10-11            1   \n",
       "39036  Strawberry        21716528   2022-11-07     2022-11-08            1   \n",
       "\n",
       "       room_revenue currency_code booking_channel guest_region first_name  \\\n",
       "6               0.0           THB          Direct     Thailand    Unknown   \n",
       "8               0.0           THB          Direct     Thailand    Unknown   \n",
       "9               0.0           THB          Direct     Thailand    Unknown   \n",
       "10              0.0           THB          Direct     Thailand    Unknown   \n",
       "11              0.0           THB          Direct     Thailand    Unknown   \n",
       "...             ...           ...             ...          ...        ...   \n",
       "39024           0.0           USD             OTA       Europe     Selena   \n",
       "39025           0.0           USD             Web       Europe     Selena   \n",
       "39034           0.0           USD          Direct         Asia     Joseph   \n",
       "39035           0.0           USD          Direct         Asia     Joseph   \n",
       "39036           0.0           USD          Direct         Asia     Joseph   \n",
       "\n",
       "      last_name                 guest_email     Period  Buying Rate  \\\n",
       "6        Rangel                     Unknown 2022-06-27      35.2528   \n",
       "8        Murphy                     Unknown 2022-10-04      37.6018   \n",
       "9         Moore                     Unknown 2022-10-04      37.6018   \n",
       "10          PhD                     Unknown 2022-10-05      37.2390   \n",
       "11        Smith                     Unknown 2022-10-04      37.6018   \n",
       "...         ...                         ...        ...          ...   \n",
       "39024  Santiago  SelenaGomez@protonmail.com 2019-04-25      31.8827   \n",
       "39025  Santiago  SelenaGomez@protonmail.com 2019-10-26      30.0635   \n",
       "39034        Yu                     Unknown 2022-10-02      37.7454   \n",
       "39035        Yu                     Unknown 2022-10-11      37.9381   \n",
       "39036        Yu                     Unknown 2022-11-08      37.1709   \n",
       "\n",
       "       Selling Rate        full_name  Revenue_USD  Revenue_THB  \n",
       "6           35.5839   Unknown Rangel          0.0          0.0  \n",
       "8           37.9276   Unknown Murphy          0.0          0.0  \n",
       "9           37.9276    Unknown Moore          0.0          0.0  \n",
       "10          37.5592      Unknown PhD          0.0          0.0  \n",
       "11          37.9276    Unknown Smith          0.0          0.0  \n",
       "...             ...              ...          ...          ...  \n",
       "39024       32.2320  Selena Santiago          0.0          0.0  \n",
       "39025       30.4052  Selena Santiago          0.0          0.0  \n",
       "39034       38.0679        Joseph Yu          0.0          0.0  \n",
       "39035       38.2615        Joseph Yu          0.0          0.0  \n",
       "39036       37.4936        Joseph Yu          0.0          0.0  \n",
       "\n",
       "[3622 rows x 18 columns]"
      ]
     },
     "execution_count": 42,
     "metadata": {},
     "output_type": "execute_result"
    }
   ],
   "source": [
    "rows_with_zero_revenue = merged_data[merged_data['room_revenue'] == 0]\n",
    "\n",
    "# Display the resulting DataFrame\n",
    "rows_with_zero_revenue"
   ]
  },
  {
   "cell_type": "code",
   "execution_count": 43,
   "id": "6c67a603",
   "metadata": {},
   "outputs": [
    {
     "data": {
      "text/plain": [
       "(39039, 18)"
      ]
     },
     "execution_count": 43,
     "metadata": {},
     "output_type": "execute_result"
    }
   ],
   "source": [
    "merged_data.shape"
   ]
  },
  {
   "cell_type": "code",
   "execution_count": 44,
   "id": "7e2a3237",
   "metadata": {},
   "outputs": [
    {
     "data": {
      "text/plain": [
       "3176385957.6000004"
      ]
     },
     "execution_count": 44,
     "metadata": {},
     "output_type": "execute_result"
    }
   ],
   "source": [
    "merged_data['Revenue_THB'].sum()"
   ]
  },
  {
   "cell_type": "markdown",
   "id": "d3d59838",
   "metadata": {},
   "source": [
    "<div class=\"alert alert-block alert-info\">\n",
    "Total revenue in THB is 3.17 Billion.\n",
    "</div>"
   ]
  },
  {
   "cell_type": "code",
   "execution_count": 45,
   "id": "5f92a532",
   "metadata": {},
   "outputs": [
    {
     "data": {
      "text/plain": [
       "96821431.95"
      ]
     },
     "execution_count": 45,
     "metadata": {},
     "output_type": "execute_result"
    }
   ],
   "source": [
    "merged_data['Revenue_USD'].sum()"
   ]
  },
  {
   "cell_type": "markdown",
   "id": "b9f3504d",
   "metadata": {},
   "source": [
    "<div class=\"alert alert-block alert-info\">\n",
    "Total revenue in USD is 96.8 Millions.\n",
    "</div>"
   ]
  },
  {
   "cell_type": "code",
   "execution_count": 48,
   "id": "dd697dc1",
   "metadata": {},
   "outputs": [
    {
     "data": {
      "text/plain": [
       "42067"
      ]
     },
     "execution_count": 48,
     "metadata": {},
     "output_type": "execute_result"
    }
   ],
   "source": [
    "sum_room_nights_cherry = merged_data.loc[merged_data['hotel_name'] == 'Cherry', 'room_nights'].sum()\n",
    "sum_room_nights_cherry"
   ]
  },
  {
   "cell_type": "code",
   "execution_count": 49,
   "id": "bc036663",
   "metadata": {},
   "outputs": [
    {
     "data": {
      "text/plain": [
       "0        14232570\n",
       "1        14321242\n",
       "2        14308935\n",
       "3        13921904\n",
       "4        13921944\n",
       "           ...   \n",
       "39034    21494521\n",
       "39035    21545467\n",
       "39036    21716528\n",
       "39037    18313636\n",
       "39038    13304131\n",
       "Name: reservation_no, Length: 39039, dtype: int64"
      ]
     },
     "execution_count": 49,
     "metadata": {},
     "output_type": "execute_result"
    }
   ],
   "source": [
    "merged_data['reservation_no']"
   ]
  },
  {
   "cell_type": "code",
   "execution_count": 108,
   "id": "8108efa4",
   "metadata": {},
   "outputs": [
    {
     "data": {
      "text/plain": [
       "'Unknown BarnesUnknown BakerUnknown ParkerUnknown MurrayUnknown HinesUnknown FletcherUnknown RangelUnknown VelezUnknown MurphyUnknown MooreUnknown PhDUnknown SmithUnknown ThomasUnknown FriedmanUnknown TorresUnknown ZavalaUnknown MartinUnknown LeeUnknown RodriguezUnknown SchmidtUnknown MatthewsUnknown ChungUnknown GarciaUnknown TaylorUnknown SanchezVirginia UnknownVirginia UnknownVirginia UnknownVirginia UnknownVictoria UnknownMary MendezDerrick UnknownDerrick UnknownSheena HumphreyJennifer BartonCharles TaylorJulie UnknownMatthew LangKatherine OlsonMark GarciaJim UnknownJim UnknownJim UnknownHarold UnknownHarold UnknownHarold UnknownHarold UnknownHarold UnknownKaren HarrisHeather HartValerie UnknownValerie UnknownRobert ChungErin UnderwoodSteven MurphyRachel FriedmanKimberly UnknownMichael MooreJohn MatthewsMichael UnknownJessica UnknownEmily PenningtonAaron MillerThomas UnknownMonica GibbsKatherine OlsonJo CabreraSandy McdanielStephen BrownBrent HamiltonPatrick CurryValerie RichardsKrista ChristensenKristin RobertsCarla FergusonVictoria HermanMichelle UnknownCindy AliSheila KingLynn GomezDanny YoungAmber JarvisMichelle PerezTara TurnerDuane MoralesKelly RogersKenneth PowellRicky OrozcoRicky OrozcoJames HillJennifer BartonApril PittsJoseph UnknownMeredith UnknownHaley UnknownLindsay DVMDebbie JonesJerome UnknownHeather HartKyle SinghJacqueline JohnsonWilliam UnknownRoy UnknownRoy UnknownSamantha PorterDavid McgeeJames HillJennifer UnknownAngela WilliamsAngela WilliamsBeth CopelandLuis GrantTammy DelgadoKimberly PerezKimberly PerezScott HammondKeith SmithCarlos GriffinMatthew LangKelly RogersMeagan UnknownMeagan GonzalezEmily PenningtonTyler MartinJennifer UnknownJoshua UnknownRenee MayoNicole CampbellJody SmithDeanna KnightValerie RichardsEmily PenningtonLauren CainEric PughAndrea BakerHeidi MDRicardo UnknownUnknown UnknownUnknown UnknownUnknown UnknownUnknown UnknownUnknown UnknownUnknown UnknownDouglas UnknownDouglas UnknownPaul UnknownSusan WilsonMichael UnknownJulia ClarkSarah CarterHarold UnknownStephen UnknownCody SmithMartin McknightSteven UnknownMichael MooreMichael MooreAnthony MossJulie RiveraRichard UnknownKayla DuranEric PughEric PughAndrea BakerScott UnknownPeter UnknownDebbie UnknownDebbie UnknownJessica ColeRussell JonesBrenda RodgersKelly RogersDavid McgeeBrian UnknownDaniel RichardAshley HallAshley HallKelly RogersKelly RogersKelly RogersTrevor DanielPeter UnknownKathleen RoyAngela WilliamsMichael MooreMary UnknownMartin UnknownMartin UnknownMartin UnknownMartin UnknownMartin UnknownMartin UnknownMartin UnknownMartin UnknownMartin UnknownMartin UnknownMartin UnknownMartin UnknownMartin UnknownMartin UnknownMartin UnknownMartin UnknownMartin UnknownMatthew LangPamela WestCarlos GriffinJohn UnknownJohn UnknownJessica ColeTerry BakerMary UnknownJacob PorterMelanie UnknownJasmine FletcherWillie UnknownHeather HartNancy MccormickNancy MccormickKimberly PerezKimberly PerezJulie RiveraRebecca ParkerSusan UnknownDavid McgeeLaura UnknownJulie RiveraMichael MooreJim OrtizNicholas AcostaKatie MDJason KingDaniel RichardMegan CarterMelissa UnknownEric UnknownRobert ChungMrs. WilliamsAlexandra UnknownDonna CarpenterAndrea BakerFrank UnknownSummer StewartCraig OconnorAmanda FoxKristina HernandezLisa UnknownEdward UnknownEdward TorresEdward TorresEdward TorresEdward TorresEdward TorresEdward TorresJason UnknownWendy AdkinsWendy AdkinsJennifer BartonMatthew UnknownJerome UnknownAmy UnknownCarolyn UnknownRyan HernandezRyan HernandezDr. MartinDr. MartinChristine UnknownChristine UnknownKevin UnknownAmanda FoxLance UnknownAllen UnknownAllen UnknownCristina GrayCristina GrayMaria MurraySherri Unknown'"
      ]
     },
     "execution_count": 108,
     "metadata": {},
     "output_type": "execute_result"
    }
   ],
   "source": [
    "# find missing profile\n",
    "merged_data.loc[(merged_data['first_name'] == 'Unknown') |\n",
    "                (merged_data['last_name'] == 'Unknown') |\n",
    "                (merged_data['guest_region'] == 'Unknown'), 'full_name'].sum()"
   ]
  },
  {
   "cell_type": "code",
   "execution_count": 109,
   "id": "1f502e85",
   "metadata": {},
   "outputs": [
    {
     "name": "stdout",
     "output_type": "stream",
     "text": [
      "Missing first/last name count: 123\n"
     ]
    }
   ],
   "source": [
    "# Filter rows where 'full_name' contains 'Unknown'\n",
    "unknown_names_count = merged_data['full_name'].str.contains('Unknown').sum()\n",
    "\n",
    "# Display the result\n",
    "print(f'Missing first/last name count: {unknown_names_count}')"
   ]
  },
  {
   "cell_type": "markdown",
   "id": "b8609a01",
   "metadata": {},
   "source": [
    "<div class=\"alert alert-block alert-info\">\n",
    "Missing first/last name count: 123\n",
    "</div>"
   ]
  },
  {
   "cell_type": "code",
   "execution_count": 55,
   "id": "3e585b7f",
   "metadata": {},
   "outputs": [
    {
     "name": "stdout",
     "output_type": "stream",
     "text": [
      "Missing email count: 9678\n"
     ]
    }
   ],
   "source": [
    "# Filter rows where 'full_name' contains 'Unknown'\n",
    "unknown_email_count = merged_data['guest_email'].str.contains('Unknown').sum()\n",
    "print(f'Missing email count: {unknown_email_count}')"
   ]
  },
  {
   "cell_type": "markdown",
   "id": "302fcc91",
   "metadata": {},
   "source": [
    "<div class=\"alert alert-block alert-info\">\n",
    "Missing email count: 9678\n",
    "</div>"
   ]
  },
  {
   "cell_type": "code",
   "execution_count": 56,
   "id": "356856eb",
   "metadata": {},
   "outputs": [
    {
     "name": "stdout",
     "output_type": "stream",
     "text": [
      "Missing region count: 168\n"
     ]
    }
   ],
   "source": [
    "unknown_region_count = merged_data['guest_region'].str.contains('Unknown').sum()\n",
    "print(f'Missing region count: {unknown_region_count}')"
   ]
  },
  {
   "cell_type": "markdown",
   "id": "31436b41",
   "metadata": {},
   "source": [
    "<div class=\"alert alert-block alert-info\">\n",
    "Missing region count: 168\n",
    "</div>"
   ]
  },
  {
   "cell_type": "code",
   "execution_count": 57,
   "id": "681dcef7",
   "metadata": {},
   "outputs": [
    {
     "name": "stdout",
     "output_type": "stream",
     "text": [
      "Total profile count based on unique emails: 24706\n"
     ]
    }
   ],
   "source": [
    "# Count the total number of unique profiles based on unique emails\n",
    "unique_email_count = data['guest_email'].nunique()\n",
    "\n",
    "# Display the result\n",
    "print(f'Total profile count based on unique emails: {unique_email_count}')"
   ]
  },
  {
   "cell_type": "markdown",
   "id": "2f0e9e7b",
   "metadata": {},
   "source": [
    "<div class=\"alert alert-block alert-info\">\n",
    "Total profile count based on unique emails: 24706\n",
    "</div>"
   ]
  },
  {
   "cell_type": "code",
   "execution_count": 70,
   "id": "eb452f19",
   "metadata": {},
   "outputs": [
    {
     "name": "stdout",
     "output_type": "stream",
     "text": [
      "Duplicated emails: 17560\n"
     ]
    }
   ],
   "source": [
    "# Check for duplicated emails\n",
    "# The keep=False parameter ensures that all occurrences of a duplicated email are marked as True.\n",
    "# data[data.duplicated('guest_email', keep=False)]: This filters the DataFrame to include only the rows with duplicated emails.\n",
    "duplicated_emails = data[data.duplicated('guest_email', keep=False)]\n",
    "\n",
    "# Display the profiles with duplicated emails\n",
    "print(f'Duplicated emails: {duplicated_emails[\"guest_email\"].count()}')"
   ]
  },
  {
   "cell_type": "markdown",
   "id": "2bc82525",
   "metadata": {},
   "source": [
    "<div class=\"alert alert-block alert-info\">\n",
    "Duplicated emails: 17560\n",
    "</div>"
   ]
  },
  {
   "cell_type": "code",
   "execution_count": 96,
   "id": "2f923545",
   "metadata": {},
   "outputs": [
    {
     "data": {
      "text/html": [
       "<div>\n",
       "<style scoped>\n",
       "    .dataframe tbody tr th:only-of-type {\n",
       "        vertical-align: middle;\n",
       "    }\n",
       "\n",
       "    .dataframe tbody tr th {\n",
       "        vertical-align: top;\n",
       "    }\n",
       "\n",
       "    .dataframe thead th {\n",
       "        text-align: right;\n",
       "    }\n",
       "</style>\n",
       "<table border=\"1\" class=\"dataframe\">\n",
       "  <thead>\n",
       "    <tr style=\"text-align: right;\">\n",
       "      <th></th>\n",
       "      <th>hotel_name</th>\n",
       "      <th>reservation_no</th>\n",
       "      <th>arrival_date</th>\n",
       "      <th>deperture_date</th>\n",
       "      <th>room_nights</th>\n",
       "      <th>room_revenue</th>\n",
       "      <th>currency_code</th>\n",
       "      <th>booking_channel</th>\n",
       "      <th>guest_region</th>\n",
       "      <th>first_name</th>\n",
       "      <th>last_name</th>\n",
       "      <th>guest_email</th>\n",
       "      <th>Period</th>\n",
       "      <th>Buying Rate</th>\n",
       "      <th>Selling Rate</th>\n",
       "      <th>full_name</th>\n",
       "      <th>Revenue_USD</th>\n",
       "      <th>Revenue_THB</th>\n",
       "    </tr>\n",
       "  </thead>\n",
       "  <tbody>\n",
       "    <tr>\n",
       "      <th>237</th>\n",
       "      <td>Cherry</td>\n",
       "      <td>16560889</td>\n",
       "      <td>2022-01-04</td>\n",
       "      <td>2022-01-07</td>\n",
       "      <td>3</td>\n",
       "      <td>-530.3400</td>\n",
       "      <td>THB</td>\n",
       "      <td>Direct</td>\n",
       "      <td>Thailand</td>\n",
       "      <td>Jenna</td>\n",
       "      <td>Harrington</td>\n",
       "      <td>Castillo.Jenna@yahoo.com</td>\n",
       "      <td>2022-01-07</td>\n",
       "      <td>33.4151</td>\n",
       "      <td>33.7446</td>\n",
       "      <td>Jenna Harrington</td>\n",
       "      <td>-15.72</td>\n",
       "      <td>-530.34</td>\n",
       "    </tr>\n",
       "    <tr>\n",
       "      <th>609</th>\n",
       "      <td>Cherry</td>\n",
       "      <td>21860682</td>\n",
       "      <td>2022-11-30</td>\n",
       "      <td>2022-11-30</td>\n",
       "      <td>0</td>\n",
       "      <td>-13900.5800</td>\n",
       "      <td>THB</td>\n",
       "      <td>Direct</td>\n",
       "      <td>North America</td>\n",
       "      <td>Nancy</td>\n",
       "      <td>Mccormick</td>\n",
       "      <td>Stanley_Craig@verizon.com</td>\n",
       "      <td>2022-11-30</td>\n",
       "      <td>35.2097</td>\n",
       "      <td>35.5352</td>\n",
       "      <td>Nancy Mccormick</td>\n",
       "      <td>-391.18</td>\n",
       "      <td>-13900.58</td>\n",
       "    </tr>\n",
       "    <tr>\n",
       "      <th>875</th>\n",
       "      <td>Cherry</td>\n",
       "      <td>13485146</td>\n",
       "      <td>2019-04-18</td>\n",
       "      <td>2019-04-20</td>\n",
       "      <td>2</td>\n",
       "      <td>-73.4400</td>\n",
       "      <td>THB</td>\n",
       "      <td>Direct</td>\n",
       "      <td>Thailand</td>\n",
       "      <td>Amy</td>\n",
       "      <td>Green</td>\n",
       "      <td>Amy_C24@verizon.com</td>\n",
       "      <td>2019-04-20</td>\n",
       "      <td>31.6361</td>\n",
       "      <td>31.9834</td>\n",
       "      <td>Amy Green</td>\n",
       "      <td>-2.30</td>\n",
       "      <td>-73.44</td>\n",
       "    </tr>\n",
       "    <tr>\n",
       "      <th>1075</th>\n",
       "      <td>Cherry</td>\n",
       "      <td>16560888</td>\n",
       "      <td>2022-01-04</td>\n",
       "      <td>2022-01-07</td>\n",
       "      <td>3</td>\n",
       "      <td>-530.3400</td>\n",
       "      <td>THB</td>\n",
       "      <td>Direct</td>\n",
       "      <td>Thailand</td>\n",
       "      <td>Katie</td>\n",
       "      <td>MD</td>\n",
       "      <td>Unknown</td>\n",
       "      <td>2022-01-07</td>\n",
       "      <td>33.4151</td>\n",
       "      <td>33.7446</td>\n",
       "      <td>Katie MD</td>\n",
       "      <td>-15.72</td>\n",
       "      <td>-530.34</td>\n",
       "    </tr>\n",
       "    <tr>\n",
       "      <th>1164</th>\n",
       "      <td>Cherry</td>\n",
       "      <td>13485579</td>\n",
       "      <td>2019-08-23</td>\n",
       "      <td>2019-08-25</td>\n",
       "      <td>2</td>\n",
       "      <td>-1432.1800</td>\n",
       "      <td>THB</td>\n",
       "      <td>Web</td>\n",
       "      <td>Thailand</td>\n",
       "      <td>Angela</td>\n",
       "      <td>Williams</td>\n",
       "      <td>Angela_Hogan@att.com</td>\n",
       "      <td>2019-08-25</td>\n",
       "      <td>30.6109</td>\n",
       "      <td>30.9462</td>\n",
       "      <td>Angela Williams</td>\n",
       "      <td>-46.28</td>\n",
       "      <td>-1432.18</td>\n",
       "    </tr>\n",
       "    <tr>\n",
       "      <th>...</th>\n",
       "      <td>...</td>\n",
       "      <td>...</td>\n",
       "      <td>...</td>\n",
       "      <td>...</td>\n",
       "      <td>...</td>\n",
       "      <td>...</td>\n",
       "      <td>...</td>\n",
       "      <td>...</td>\n",
       "      <td>...</td>\n",
       "      <td>...</td>\n",
       "      <td>...</td>\n",
       "      <td>...</td>\n",
       "      <td>...</td>\n",
       "      <td>...</td>\n",
       "      <td>...</td>\n",
       "      <td>...</td>\n",
       "      <td>...</td>\n",
       "      <td>...</td>\n",
       "    </tr>\n",
       "    <tr>\n",
       "      <th>27113</th>\n",
       "      <td>Blueberry</td>\n",
       "      <td>21657082</td>\n",
       "      <td>2022-11-11</td>\n",
       "      <td>2022-11-15</td>\n",
       "      <td>4</td>\n",
       "      <td>-22700.0000</td>\n",
       "      <td>THB</td>\n",
       "      <td>Direct</td>\n",
       "      <td>Asia</td>\n",
       "      <td>Debbie</td>\n",
       "      <td>Jones</td>\n",
       "      <td>Perez_Debbie57@xfinity.com</td>\n",
       "      <td>2022-11-15</td>\n",
       "      <td>35.5282</td>\n",
       "      <td>35.8595</td>\n",
       "      <td>Debbie Jones</td>\n",
       "      <td>-633.03</td>\n",
       "      <td>-22700.00</td>\n",
       "    </tr>\n",
       "    <tr>\n",
       "      <th>29302</th>\n",
       "      <td>Strawberry</td>\n",
       "      <td>21176579</td>\n",
       "      <td>2022-08-23</td>\n",
       "      <td>2022-09-06</td>\n",
       "      <td>14</td>\n",
       "      <td>-4108.0007</td>\n",
       "      <td>USD</td>\n",
       "      <td>Direct</td>\n",
       "      <td>Europe</td>\n",
       "      <td>Angela</td>\n",
       "      <td>Williams</td>\n",
       "      <td>Tracy_Perez@xfinity.com</td>\n",
       "      <td>2022-09-06</td>\n",
       "      <td>36.2775</td>\n",
       "      <td>36.6024</td>\n",
       "      <td>Angela Williams</td>\n",
       "      <td>-4108.00</td>\n",
       "      <td>-149028.00</td>\n",
       "    </tr>\n",
       "    <tr>\n",
       "      <th>30175</th>\n",
       "      <td>Strawberry</td>\n",
       "      <td>17234475</td>\n",
       "      <td>2022-03-03</td>\n",
       "      <td>2022-03-03</td>\n",
       "      <td>0</td>\n",
       "      <td>-265.5823</td>\n",
       "      <td>USD</td>\n",
       "      <td>Direct</td>\n",
       "      <td>Europe</td>\n",
       "      <td>Heather</td>\n",
       "      <td>Hart</td>\n",
       "      <td>Unknown</td>\n",
       "      <td>2022-03-03</td>\n",
       "      <td>32.3568</td>\n",
       "      <td>32.6850</td>\n",
       "      <td>Heather Hart</td>\n",
       "      <td>-265.58</td>\n",
       "      <td>-8593.39</td>\n",
       "    </tr>\n",
       "    <tr>\n",
       "      <th>32361</th>\n",
       "      <td>Strawberry</td>\n",
       "      <td>14665510</td>\n",
       "      <td>2019-10-31</td>\n",
       "      <td>2019-11-02</td>\n",
       "      <td>2</td>\n",
       "      <td>-274.2800</td>\n",
       "      <td>USD</td>\n",
       "      <td>Direct</td>\n",
       "      <td>Europe</td>\n",
       "      <td>Debra</td>\n",
       "      <td>Fuller</td>\n",
       "      <td>DebraWilliams@verizon.com</td>\n",
       "      <td>2019-11-02</td>\n",
       "      <td>29.9899</td>\n",
       "      <td>30.3406</td>\n",
       "      <td>Debra Fuller</td>\n",
       "      <td>-274.28</td>\n",
       "      <td>-8225.63</td>\n",
       "    </tr>\n",
       "    <tr>\n",
       "      <th>37847</th>\n",
       "      <td>Strawberry</td>\n",
       "      <td>21144592</td>\n",
       "      <td>2022-10-01</td>\n",
       "      <td>2022-10-01</td>\n",
       "      <td>0</td>\n",
       "      <td>-380.7287</td>\n",
       "      <td>USD</td>\n",
       "      <td>Direct</td>\n",
       "      <td>Europe</td>\n",
       "      <td>Samantha</td>\n",
       "      <td>Porter</td>\n",
       "      <td>Ashley_M@yandex.com</td>\n",
       "      <td>2022-10-01</td>\n",
       "      <td>37.7454</td>\n",
       "      <td>38.0679</td>\n",
       "      <td>Samantha Porter</td>\n",
       "      <td>-380.73</td>\n",
       "      <td>-14370.76</td>\n",
       "    </tr>\n",
       "  </tbody>\n",
       "</table>\n",
       "<p>86 rows × 18 columns</p>\n",
       "</div>"
      ],
      "text/plain": [
       "       hotel_name  reservation_no arrival_date deperture_date  room_nights  \\\n",
       "237        Cherry        16560889   2022-01-04     2022-01-07            3   \n",
       "609        Cherry        21860682   2022-11-30     2022-11-30            0   \n",
       "875        Cherry        13485146   2019-04-18     2019-04-20            2   \n",
       "1075       Cherry        16560888   2022-01-04     2022-01-07            3   \n",
       "1164       Cherry        13485579   2019-08-23     2019-08-25            2   \n",
       "...           ...             ...          ...            ...          ...   \n",
       "27113   Blueberry        21657082   2022-11-11     2022-11-15            4   \n",
       "29302  Strawberry        21176579   2022-08-23     2022-09-06           14   \n",
       "30175  Strawberry        17234475   2022-03-03     2022-03-03            0   \n",
       "32361  Strawberry        14665510   2019-10-31     2019-11-02            2   \n",
       "37847  Strawberry        21144592   2022-10-01     2022-10-01            0   \n",
       "\n",
       "       room_revenue currency_code booking_channel   guest_region first_name  \\\n",
       "237       -530.3400           THB          Direct       Thailand      Jenna   \n",
       "609     -13900.5800           THB          Direct  North America      Nancy   \n",
       "875        -73.4400           THB          Direct       Thailand        Amy   \n",
       "1075      -530.3400           THB          Direct       Thailand      Katie   \n",
       "1164     -1432.1800           THB             Web       Thailand     Angela   \n",
       "...             ...           ...             ...            ...        ...   \n",
       "27113   -22700.0000           THB          Direct           Asia     Debbie   \n",
       "29302    -4108.0007           USD          Direct         Europe     Angela   \n",
       "30175     -265.5823           USD          Direct         Europe    Heather   \n",
       "32361     -274.2800           USD          Direct         Europe      Debra   \n",
       "37847     -380.7287           USD          Direct         Europe   Samantha   \n",
       "\n",
       "        last_name                 guest_email     Period  Buying Rate  \\\n",
       "237    Harrington    Castillo.Jenna@yahoo.com 2022-01-07      33.4151   \n",
       "609     Mccormick   Stanley_Craig@verizon.com 2022-11-30      35.2097   \n",
       "875         Green         Amy_C24@verizon.com 2019-04-20      31.6361   \n",
       "1075           MD                     Unknown 2022-01-07      33.4151   \n",
       "1164     Williams        Angela_Hogan@att.com 2019-08-25      30.6109   \n",
       "...           ...                         ...        ...          ...   \n",
       "27113       Jones  Perez_Debbie57@xfinity.com 2022-11-15      35.5282   \n",
       "29302    Williams     Tracy_Perez@xfinity.com 2022-09-06      36.2775   \n",
       "30175        Hart                     Unknown 2022-03-03      32.3568   \n",
       "32361      Fuller   DebraWilliams@verizon.com 2019-11-02      29.9899   \n",
       "37847      Porter         Ashley_M@yandex.com 2022-10-01      37.7454   \n",
       "\n",
       "       Selling Rate         full_name  Revenue_USD  Revenue_THB  \n",
       "237         33.7446  Jenna Harrington       -15.72      -530.34  \n",
       "609         35.5352   Nancy Mccormick      -391.18    -13900.58  \n",
       "875         31.9834         Amy Green        -2.30       -73.44  \n",
       "1075        33.7446          Katie MD       -15.72      -530.34  \n",
       "1164        30.9462   Angela Williams       -46.28     -1432.18  \n",
       "...             ...               ...          ...          ...  \n",
       "27113       35.8595      Debbie Jones      -633.03    -22700.00  \n",
       "29302       36.6024   Angela Williams     -4108.00   -149028.00  \n",
       "30175       32.6850      Heather Hart      -265.58     -8593.39  \n",
       "32361       30.3406      Debra Fuller      -274.28     -8225.63  \n",
       "37847       38.0679   Samantha Porter      -380.73    -14370.76  \n",
       "\n",
       "[86 rows x 18 columns]"
      ]
     },
     "execution_count": 96,
     "metadata": {},
     "output_type": "execute_result"
    }
   ],
   "source": [
    "# Select rows with negative revenue\n",
    "negative_revenue_rows = merged_data[merged_data['room_revenue'] < 0]\n",
    "\n",
    "# Display the selected rows\n",
    "negative_revenue_rows"
   ]
  },
  {
   "cell_type": "code",
   "execution_count": 99,
   "id": "0139a25b",
   "metadata": {},
   "outputs": [
    {
     "data": {
      "text/plain": [
       "-437930.08"
      ]
     },
     "execution_count": 99,
     "metadata": {},
     "output_type": "execute_result"
    }
   ],
   "source": [
    "negative_revenue_rows['Revenue_THB'].sum()"
   ]
  },
  {
   "cell_type": "code",
   "execution_count": 100,
   "id": "fc913e91",
   "metadata": {},
   "outputs": [
    {
     "data": {
      "text/plain": [
       "-12624.48"
      ]
     },
     "execution_count": 100,
     "metadata": {},
     "output_type": "execute_result"
    }
   ],
   "source": [
    "negative_revenue_rows['Revenue_USD'].sum()"
   ]
  },
  {
   "cell_type": "code",
   "execution_count": null,
   "id": "5849792c",
   "metadata": {},
   "outputs": [],
   "source": []
  }
 ],
 "metadata": {
  "kernelspec": {
   "display_name": "Python 3 (ipykernel)",
   "language": "python",
   "name": "python3"
  },
  "language_info": {
   "codemirror_mode": {
    "name": "ipython",
    "version": 3
   },
   "file_extension": ".py",
   "mimetype": "text/x-python",
   "name": "python",
   "nbconvert_exporter": "python",
   "pygments_lexer": "ipython3",
   "version": "3.9.13"
  }
 },
 "nbformat": 4,
 "nbformat_minor": 5
}
